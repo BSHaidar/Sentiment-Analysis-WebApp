{
 "cells": [
  {
   "cell_type": "markdown",
   "metadata": {},
   "source": [
    "# Creating a Sentiment Analysis Web App\n",
    "## Using PyTorch and SageMaker\n",
    "\n",
    "\n",
    "---\n",
    "\n",
    "We are building a sentiment analyzer for a movie review. Build and deploy model as an endpoint in AWS SageMaker. Create a simple web page where a user can type-in a movie review. The web page will then send the review off to our deployed model which will predict the sentiment (positive or negative) of the entered review.\n",
    "\n",
    "Steps followed for this project:\n",
    "\n",
    "1. Download or otherwise retrieve the data.\n",
    "2. Process / Prepare the data.\n",
    "3. Upload the processed data to S3.\n",
    "4. Train a chosen model.\n",
    "5. Test the trained model (typically using a batch transform job).\n",
    "6. Deploy the trained model.\n",
    "7. Use the deployed model.\n",
    "\n",
    "\n",
    "We will not be testing the model in its own step but by deploying the model and then using the deployed model by sending the test data to it. One of the reasons for doing this is so that we can make sure that the deployed model is working correctly before moving forward.\n",
    "\n",
    "In addition, we will deploy and use the trained model a second time. In the second iteration we will customize the way that the trained model is deployed by including some of additional code. The newly deployed model will be used in the sentiment analysis web app."
   ]
  },
  {
   "cell_type": "markdown",
   "metadata": {},
   "source": [
    "## Step 1: Downloading the data\n",
    "\n",
    "We will be using the [IMDb dataset](http://ai.stanford.edu/~amaas/data/sentiment/)\n",
    "\n",
    "> Maas, Andrew L., et al. [Learning Word Vectors for Sentiment Analysis](http://ai.stanford.edu/~amaas/data/sentiment/). In _Proceedings of the 49th Annual Meeting of the Association for Computational Linguistics: Human Language Technologies_. Association for Computational Linguistics, 2011."
   ]
  },
  {
   "cell_type": "code",
   "execution_count": 57,
   "metadata": {},
   "outputs": [
    {
     "name": "stdout",
     "output_type": "stream",
     "text": [
      "mkdir: cannot create directory ‘../data’: File exists\n",
      "--2019-11-21 14:27:16--  http://ai.stanford.edu/~amaas/data/sentiment/aclImdb_v1.tar.gz\n",
      "Resolving ai.stanford.edu (ai.stanford.edu)... 171.64.68.10\n",
      "Connecting to ai.stanford.edu (ai.stanford.edu)|171.64.68.10|:80... connected.\n",
      "HTTP request sent, awaiting response... 200 OK\n",
      "Length: 84125825 (80M) [application/x-gzip]\n",
      "Saving to: ‘../data/aclImdb_v1.tar.gz’\n",
      "\n",
      "../data/aclImdb_v1. 100%[===================>]  80.23M  22.1MB/s    in 4.9s    \n",
      "\n",
      "2019-11-21 14:27:21 (16.4 MB/s) - ‘../data/aclImdb_v1.tar.gz’ saved [84125825/84125825]\n",
      "\n"
     ]
    }
   ],
   "source": [
    "%mkdir ../data\n",
    "!wget -O ../data/aclImdb_v1.tar.gz http://ai.stanford.edu/~amaas/data/sentiment/aclImdb_v1.tar.gz\n",
    "!tar -zxf ../data/aclImdb_v1.tar.gz -C ../data"
   ]
  },
  {
   "cell_type": "markdown",
   "metadata": {},
   "source": [
    "## Step 2: Preparing and Processing the data\n",
    "\n",
    "We will read in each of the reviews and combine them into a single input structure. Then, we will split the dataset into a training set and a testing set."
   ]
  },
  {
   "cell_type": "code",
   "execution_count": 58,
   "metadata": {},
   "outputs": [],
   "source": [
    "import os\n",
    "import glob\n",
    "\n",
    "def read_imdb_data(data_dir='../data/aclImdb'):\n",
    "    data = {}\n",
    "    labels = {}\n",
    "    \n",
    "    for data_type in ['train', 'test']:\n",
    "        data[data_type] = {}\n",
    "        labels[data_type] = {}\n",
    "        \n",
    "        for sentiment in ['pos', 'neg']:\n",
    "            data[data_type][sentiment] = []\n",
    "            labels[data_type][sentiment] = []\n",
    "            \n",
    "            path = os.path.join(data_dir, data_type, sentiment, '*.txt')\n",
    "            files = glob.glob(path)\n",
    "            \n",
    "            for f in files:\n",
    "                with open(f) as review:\n",
    "                    data[data_type][sentiment].append(review.read())\n",
    "                    # Here we represent a positive review by '1' and a negative review by '0'\n",
    "                    labels[data_type][sentiment].append(1 if sentiment == 'pos' else 0)\n",
    "                    \n",
    "            assert len(data[data_type][sentiment]) == len(labels[data_type][sentiment]), \\\n",
    "                    \"{}/{} data size does not match labels size\".format(data_type, sentiment)\n",
    "                \n",
    "    return data, labels"
   ]
  },
  {
   "cell_type": "code",
   "execution_count": 59,
   "metadata": {},
   "outputs": [
    {
     "name": "stdout",
     "output_type": "stream",
     "text": [
      "IMDB reviews: train = 12500 pos / 12500 neg, test = 12500 pos / 12500 neg\n"
     ]
    }
   ],
   "source": [
    "data, labels = read_imdb_data()\n",
    "print(\"IMDB reviews: train = {} pos / {} neg, test = {} pos / {} neg\".format(\n",
    "            len(data['train']['pos']), len(data['train']['neg']),\n",
    "            len(data['test']['pos']), len(data['test']['neg'])))"
   ]
  },
  {
   "cell_type": "markdown",
   "metadata": {},
   "source": [
    "Now that we've read the raw training and testing data from the downloaded dataset, we will combine the positive and negative reviews and shuffle the resulting records."
   ]
  },
  {
   "cell_type": "code",
   "execution_count": 60,
   "metadata": {},
   "outputs": [],
   "source": [
    "from sklearn.utils import shuffle\n",
    "\n",
    "def prepare_imdb_data(data, labels):\n",
    "    \"\"\"Prepare training and test sets from IMDb movie reviews.\"\"\"\n",
    "    \n",
    "    #Combine positive and negative reviews and labels\n",
    "    data_train = data['train']['pos'] + data['train']['neg']\n",
    "    data_test = data['test']['pos'] + data['test']['neg']\n",
    "    labels_train = labels['train']['pos'] + labels['train']['neg']\n",
    "    labels_test = labels['test']['pos'] + labels['test']['neg']\n",
    "    \n",
    "    #Shuffle reviews and corresponding labels within training and test sets\n",
    "    data_train, labels_train = shuffle(data_train, labels_train)\n",
    "    data_test, labels_test = shuffle(data_test, labels_test)\n",
    "    \n",
    "    # Return a unified training data, test data, training labels, test labets\n",
    "    return data_train, data_test, labels_train, labels_test"
   ]
  },
  {
   "cell_type": "code",
   "execution_count": 61,
   "metadata": {},
   "outputs": [
    {
     "name": "stdout",
     "output_type": "stream",
     "text": [
      "IMDb reviews (combined): train = 25000, test = 25000\n"
     ]
    }
   ],
   "source": [
    "train_X, test_X, train_y, test_y = prepare_imdb_data(data, labels)\n",
    "print(\"IMDb reviews (combined): train = {}, test = {}\".format(len(train_X), len(test_X)))"
   ]
  },
  {
   "cell_type": "markdown",
   "metadata": {},
   "source": [
    "Now that we have our training and testing sets unified and prepared, we should do a quick check and see an example of the data our model will be trained on. This is generally a good idea as it allows you to see how each of the further processing steps affects the reviews and it also ensures that the data has been loaded correctly."
   ]
  },
  {
   "cell_type": "code",
   "execution_count": 62,
   "metadata": {},
   "outputs": [
    {
     "name": "stdout",
     "output_type": "stream",
     "text": [
      "I had been long awaiting this movie ever since I saw the trailer, which made it look like a political drama, starring three of my favorite actors; Al Pacino, John Cusack, and Bridget Fonda. And even though it was directed by Harold Becker, who has done uneven work, he and Pacino did combine on SEA OF LOVE, which ranks among each of their best work. But interference on some level(for starters, several of the scenes in the original trailer don't appear in the movie) and changing of tone(subsequent trailers make it look like a thriller) make this, while watchable, nowhere near as it could have been.<br /><br />Which is too bad, because I really wanted to like this movie. There was great potential here to be a film about how government can still be worthwhile despite all the corruption, and to make a complex statement about that corruption, not the usual good guys vs. bad guys. And there is good acting here. Pacino and Cusack are both very good, and Danny Aiello gives one of the best performances of his career. But Fonda is wasted in her role, having nothing to do, and while there is merit in the central storyline, when it turns to a thriller, the movie loses its way, briefly recovers in the final scene between Cusack and Pacino, and then falls down completely in the end. I wish I could like this more, but no.\n",
      "1\n"
     ]
    }
   ],
   "source": [
    "print(train_X[100])\n",
    "print(train_y[100])"
   ]
  },
  {
   "cell_type": "markdown",
   "metadata": {},
   "source": [
    "The first step in processing the reviews is to make sure that any html tags that appear should be removed. In addition we wish to tokenize our input, that way words such as *entertained* and *entertaining* are considered the same with regard to sentiment analysis."
   ]
  },
  {
   "cell_type": "code",
   "execution_count": 63,
   "metadata": {},
   "outputs": [],
   "source": [
    "import nltk\n",
    "from nltk.corpus import stopwords\n",
    "from nltk.stem.porter import *\n",
    "\n",
    "import re\n",
    "from bs4 import BeautifulSoup\n",
    "\n",
    "def review_to_words(review):\n",
    "    nltk.download(\"stopwords\", quiet=True)\n",
    "    stemmer = PorterStemmer()\n",
    "    \n",
    "    text = BeautifulSoup(review, \"html.parser\").get_text() # Remove HTML tags\n",
    "    text = re.sub(r\"[^a-zA-Z0-9]\", \" \", text.lower()) # Convert to lower case\n",
    "    words = text.split() # Split string into words\n",
    "    words = [w for w in words if w not in stopwords.words(\"english\")] # Remove stopwords\n",
    "    words = [PorterStemmer().stem(w) for w in words] # stem\n",
    "    \n",
    "    return words"
   ]
  },
  {
   "cell_type": "markdown",
   "metadata": {},
   "source": [
    "The `review_to_words` method defined above uses `BeautifulSoup` to remove any html tags that appear and uses the `nltk` package to tokenize the reviews. As a check to ensure we know how everything is working, try applying `review_to_words` to one of the reviews in the training set."
   ]
  },
  {
   "cell_type": "code",
   "execution_count": 64,
   "metadata": {},
   "outputs": [
    {
     "data": {
      "text/plain": [
       "['long',\n",
       " 'await',\n",
       " 'movi',\n",
       " 'ever',\n",
       " 'sinc',\n",
       " 'saw',\n",
       " 'trailer',\n",
       " 'made',\n",
       " 'look',\n",
       " 'like',\n",
       " 'polit',\n",
       " 'drama',\n",
       " 'star',\n",
       " 'three',\n",
       " 'favorit',\n",
       " 'actor',\n",
       " 'al',\n",
       " 'pacino',\n",
       " 'john',\n",
       " 'cusack',\n",
       " 'bridget',\n",
       " 'fonda',\n",
       " 'even',\n",
       " 'though',\n",
       " 'direct',\n",
       " 'harold',\n",
       " 'becker',\n",
       " 'done',\n",
       " 'uneven',\n",
       " 'work',\n",
       " 'pacino',\n",
       " 'combin',\n",
       " 'sea',\n",
       " 'love',\n",
       " 'rank',\n",
       " 'among',\n",
       " 'best',\n",
       " 'work',\n",
       " 'interfer',\n",
       " 'level',\n",
       " 'starter',\n",
       " 'sever',\n",
       " 'scene',\n",
       " 'origin',\n",
       " 'trailer',\n",
       " 'appear',\n",
       " 'movi',\n",
       " 'chang',\n",
       " 'tone',\n",
       " 'subsequ',\n",
       " 'trailer',\n",
       " 'make',\n",
       " 'look',\n",
       " 'like',\n",
       " 'thriller',\n",
       " 'make',\n",
       " 'watchabl',\n",
       " 'nowher',\n",
       " 'near',\n",
       " 'could',\n",
       " 'bad',\n",
       " 'realli',\n",
       " 'want',\n",
       " 'like',\n",
       " 'movi',\n",
       " 'great',\n",
       " 'potenti',\n",
       " 'film',\n",
       " 'govern',\n",
       " 'still',\n",
       " 'worthwhil',\n",
       " 'despit',\n",
       " 'corrupt',\n",
       " 'make',\n",
       " 'complex',\n",
       " 'statement',\n",
       " 'corrupt',\n",
       " 'usual',\n",
       " 'good',\n",
       " 'guy',\n",
       " 'vs',\n",
       " 'bad',\n",
       " 'guy',\n",
       " 'good',\n",
       " 'act',\n",
       " 'pacino',\n",
       " 'cusack',\n",
       " 'good',\n",
       " 'danni',\n",
       " 'aiello',\n",
       " 'give',\n",
       " 'one',\n",
       " 'best',\n",
       " 'perform',\n",
       " 'career',\n",
       " 'fonda',\n",
       " 'wast',\n",
       " 'role',\n",
       " 'noth',\n",
       " 'merit',\n",
       " 'central',\n",
       " 'storylin',\n",
       " 'turn',\n",
       " 'thriller',\n",
       " 'movi',\n",
       " 'lose',\n",
       " 'way',\n",
       " 'briefli',\n",
       " 'recov',\n",
       " 'final',\n",
       " 'scene',\n",
       " 'cusack',\n",
       " 'pacino',\n",
       " 'fall',\n",
       " 'complet',\n",
       " 'end',\n",
       " 'wish',\n",
       " 'could',\n",
       " 'like']"
      ]
     },
     "execution_count": 64,
     "metadata": {},
     "output_type": "execute_result"
    }
   ],
   "source": [
    "# TODO: Apply review_to_words to a review (train_X[100] or any other review)\n",
    "review_to_words(train_X[100])"
   ]
  },
  {
   "cell_type": "code",
   "execution_count": 65,
   "metadata": {},
   "outputs": [],
   "source": [
    "import pickle\n",
    "\n",
    "cache_dir = os.path.join(\"../cache\", \"sentiment_analysis\")  # where to store cache files\n",
    "os.makedirs(cache_dir, exist_ok=True)  # ensure cache directory exists\n",
    "\n",
    "def preprocess_data(data_train, data_test, labels_train, labels_test,\n",
    "                    cache_dir=cache_dir, cache_file=\"preprocessed_data.pkl\"):\n",
    "    \"\"\"Convert each review to words; read from cache if available.\"\"\"\n",
    "\n",
    "    # If cache_file is not None, try to read from it first\n",
    "    cache_data = None\n",
    "    if cache_file is not None:\n",
    "        try:\n",
    "            with open(os.path.join(cache_dir, cache_file), \"rb\") as f:\n",
    "                cache_data = pickle.load(f)\n",
    "            print(\"Read preprocessed data from cache file:\", cache_file)\n",
    "        except:\n",
    "            pass  # unable to read from cache, but that's okay\n",
    "    \n",
    "    # If cache is missing, then do the heavy lifting\n",
    "    if cache_data is None:\n",
    "        # Preprocess training and test data to obtain words for each review\n",
    "        #words_train = list(map(review_to_words, data_train))\n",
    "        #words_test = list(map(review_to_words, data_test))\n",
    "        words_train = [review_to_words(review) for review in data_train]\n",
    "        words_test = [review_to_words(review) for review in data_test]\n",
    "        \n",
    "        # Write to cache file for future runs\n",
    "        if cache_file is not None:\n",
    "            cache_data = dict(words_train=words_train, words_test=words_test,\n",
    "                              labels_train=labels_train, labels_test=labels_test)\n",
    "            with open(os.path.join(cache_dir, cache_file), \"wb\") as f:\n",
    "                pickle.dump(cache_data, f)\n",
    "            print(\"Wrote preprocessed data to cache file:\", cache_file)\n",
    "    else:\n",
    "        # Unpack data loaded from cache file\n",
    "        words_train, words_test, labels_train, labels_test = (cache_data['words_train'],\n",
    "                cache_data['words_test'], cache_data['labels_train'], cache_data['labels_test'])\n",
    "    \n",
    "    return words_train, words_test, labels_train, labels_test"
   ]
  },
  {
   "cell_type": "code",
   "execution_count": 66,
   "metadata": {},
   "outputs": [
    {
     "name": "stdout",
     "output_type": "stream",
     "text": [
      "Read preprocessed data from cache file: preprocessed_data.pkl\n"
     ]
    }
   ],
   "source": [
    "# Preprocess data\n",
    "train_X, test_X, train_y, test_y = preprocess_data(train_X, test_X, train_y, test_y)"
   ]
  },
  {
   "cell_type": "markdown",
   "metadata": {},
   "source": [
    "## Transform the data\n",
    "\n",
    "We will transform the data from its word representation to a bag-of-words featurea representation. To start, we will represent each word as an integer. Of course, some of the words that appear in the reviews occur very infrequently and so likely don't contain much information for the purposes of sentiment analysis. The way we will deal with this problem is that we will fix the size of our working vocabulary and we will only include the words that appear most frequently. We will then combine all of the infrequent words into a single category and, in our case, we will label it as `1`.\n",
    "\n",
    "Since we will be using a recurrent neural network, it will be convenient if the length of each review is the same. To do this, we will fix a size for our reviews and then pad short reviews with the category 'no word' (which we will label `0`) and truncate long reviews."
   ]
  },
  {
   "cell_type": "markdown",
   "metadata": {},
   "source": [
    "### Create a word dictionary\n",
    "\n",
    "To begin with, we need to construct a way to map words that appear in the reviews to integers. Here we fix the size of our vocabulary (including the 'no word' and 'infrequent' categories) to be `5000` but you may wish to change this to see how it affects the model.\n"
   ]
  },
  {
   "cell_type": "code",
   "execution_count": 67,
   "metadata": {},
   "outputs": [],
   "source": [
    "import numpy as np\n",
    "\n",
    "def build_dict(data, vocab_size = 5000):\n",
    "    \"\"\"Construct and return a dictionary mapping each of the most frequently appearing words to a unique integer.\"\"\"\n",
    "    \n",
    "    # Determine how often each word appears in `data`. Note that `data` \n",
    "    # is a list of sentences and that a sentence is a list of words.\n",
    "    \n",
    "    word_count = {} # A dict storing the words that appear in the reviews along with how often they occur\n",
    "    for phrase in data:\n",
    "        for word in phrase:\n",
    "            if word in word_count:\n",
    "                word_count[word] += 1\n",
    "            else:\n",
    "                word_count[word] = 1\n",
    " \n",
    "    \n",
    "    # Sort the words found in `data` so that sorted_words[0] is the most frequently \n",
    "    # appearing word and sorted_words[-1] is the least frequently appearing word.\n",
    "    \n",
    "    sorted_words = None\n",
    "    sorted_words = sorted(word_count, key=word_count.get, reverse=True)\n",
    "  \n",
    "    \n",
    "    word_dict = {} # This is what we are building, a dictionary that translates words into integers\n",
    "    for idx, word in enumerate(sorted_words[:vocab_size - 2]): # The -2 is so that we save room for the 'no word'\n",
    "        word_dict[word] = idx + 2                              # 'infrequent' labels\n",
    "        \n",
    "    return word_dict"
   ]
  },
  {
   "cell_type": "code",
   "execution_count": 68,
   "metadata": {},
   "outputs": [],
   "source": [
    "word_dict = build_dict(train_X)"
   ]
  },
  {
   "cell_type": "code",
   "execution_count": 69,
   "metadata": {
    "scrolled": true
   },
   "outputs": [
    {
     "name": "stdout",
     "output_type": "stream",
     "text": [
      "{'movi': 2, 'film': 3, 'one': 4, 'like': 5, 'time': 6, 'good': 7, 'make': 8, 'charact': 9, 'get': 10, 'see': 11, 'watch': 12, 'stori': 13, 'even': 14, 'would': 15, 'realli': 16, 'well': 17, 'scene': 18, 'look': 19, 'show': 20, 'much': 21, 'end': 22, 'peopl': 23, 'bad': 24, 'go': 25, 'great': 26, 'also': 27, 'first': 28, 'love': 29, 'think': 30, 'way': 31, 'act': 32, 'play': 33, 'made': 34, 'thing': 35, 'could': 36, 'know': 37, 'say': 38, 'seem': 39, 'work': 40, 'plot': 41, 'two': 42, 'actor': 43, 'year': 44, 'come': 45, 'mani': 46, 'seen': 47, 'take': 48, 'life': 49, 'want': 50, 'never': 51, 'littl': 52, 'best': 53, 'tri': 54, 'man': 55, 'ever': 56, 'give': 57, 'better': 58, 'still': 59, 'perform': 60, 'find': 61, 'feel': 62, 'part': 63, 'back': 64, 'use': 65, 'someth': 66, 'director': 67, 'actual': 68, 'interest': 69, 'lot': 70, 'real': 71, 'old': 72, 'cast': 73, 'though': 74, 'live': 75, 'star': 76, 'enjoy': 77, 'guy': 78, 'anoth': 79, 'new': 80, 'role': 81, 'noth': 82, '10': 83, 'funni': 84, 'music': 85, 'point': 86, 'start': 87, 'set': 88, 'girl': 89, 'origin': 90, 'day': 91, 'world': 92, 'everi': 93, 'believ': 94, 'turn': 95, 'quit': 96, 'us': 97, 'direct': 98, 'thought': 99, 'fact': 100, 'minut': 101, 'horror': 102, 'kill': 103, 'action': 104, 'comedi': 105, 'pretti': 106, 'young': 107, 'wonder': 108, 'happen': 109, 'around': 110, 'got': 111, 'effect': 112, 'right': 113, 'long': 114, 'howev': 115, 'big': 116, 'line': 117, 'famili': 118, 'enough': 119, 'seri': 120, 'may': 121, 'need': 122, 'fan': 123, 'bit': 124, 'script': 125, 'beauti': 126, 'person': 127, 'becom': 128, 'without': 129, 'must': 130, 'alway': 131, 'friend': 132, 'tell': 133, 'reason': 134, 'saw': 135, 'last': 136, 'final': 137, 'kid': 138, 'almost': 139, 'put': 140, 'least': 141, 'sure': 142, 'done': 143, 'whole': 144, 'place': 145, 'complet': 146, 'kind': 147, 'expect': 148, 'differ': 149, 'shot': 150, 'far': 151, 'mean': 152, 'anyth': 153, 'book': 154, 'laugh': 155, 'might': 156, 'name': 157, 'sinc': 158, 'begin': 159, '2': 160, 'probabl': 161, 'woman': 162, 'help': 163, 'entertain': 164, 'let': 165, 'screen': 166, 'call': 167, 'tv': 168, 'moment': 169, 'away': 170, 'read': 171, 'yet': 172, 'rather': 173, 'worst': 174, 'run': 175, 'fun': 176, 'lead': 177, 'hard': 178, 'audienc': 179, 'idea': 180, 'anyon': 181, 'episod': 182, 'american': 183, 'found': 184, 'appear': 185, 'bore': 186, 'especi': 187, 'although': 188, 'hope': 189, 'keep': 190, 'cours': 191, 'anim': 192, 'job': 193, 'goe': 194, 'move': 195, 'sens': 196, 'dvd': 197, 'version': 198, 'war': 199, 'money': 200, 'someon': 201, 'mind': 202, 'mayb': 203, 'problem': 204, 'true': 205, 'hous': 206, 'everyth': 207, 'nice': 208, 'second': 209, 'rate': 210, 'three': 211, 'night': 212, 'face': 213, 'follow': 214, 'recommend': 215, 'main': 216, 'product': 217, 'worth': 218, 'leav': 219, 'human': 220, 'special': 221, 'excel': 222, 'togeth': 223, 'wast': 224, 'sound': 225, 'everyon': 226, 'john': 227, 'hand': 228, '1': 229, 'father': 230, 'later': 231, 'eye': 232, 'said': 233, 'view': 234, 'instead': 235, 'review': 236, 'boy': 237, 'high': 238, 'hour': 239, 'miss': 240, 'classic': 241, 'talk': 242, 'wife': 243, 'understand': 244, 'left': 245, 'care': 246, 'black': 247, 'death': 248, 'open': 249, 'murder': 250, 'write': 251, 'half': 252, 'head': 253, 'rememb': 254, 'chang': 255, 'viewer': 256, 'fight': 257, 'gener': 258, 'surpris': 259, 'includ': 260, 'short': 261, 'die': 262, 'fall': 263, 'less': 264, 'els': 265, 'entir': 266, 'piec': 267, 'involv': 268, 'pictur': 269, 'simpli': 270, 'power': 271, 'top': 272, 'home': 273, 'total': 274, 'usual': 275, 'budget': 276, 'attempt': 277, 'suppos': 278, 'releas': 279, 'hollywood': 280, 'terribl': 281, 'song': 282, 'men': 283, 'possibl': 284, 'featur': 285, 'portray': 286, 'disappoint': 287, 'poor': 288, '3': 289, 'coupl': 290, 'stupid': 291, 'camera': 292, 'dead': 293, 'wrong': 294, 'low': 295, 'produc': 296, 'either': 297, 'video': 298, 'aw': 299, 'definit': 300, 'except': 301, 'rest': 302, 'given': 303, 'absolut': 304, 'women': 305, 'lack': 306, 'word': 307, 'writer': 308, 'titl': 309, 'talent': 310, 'decid': 311, 'full': 312, 'perfect': 313, 'along': 314, 'style': 315, 'close': 316, 'truli': 317, 'school': 318, 'emot': 319, 'save': 320, 'sex': 321, 'age': 322, 'next': 323, 'bring': 324, 'mr': 325, 'case': 326, 'killer': 327, 'heart': 328, 'comment': 329, 'sort': 330, 'creat': 331, 'perhap': 332, 'came': 333, 'brother': 334, 'sever': 335, 'joke': 336, 'art': 337, 'dialogu': 338, 'game': 339, 'small': 340, 'base': 341, 'flick': 342, 'written': 343, 'sequenc': 344, 'meet': 345, 'earli': 346, 'often': 347, 'other': 348, 'mother': 349, 'develop': 350, 'humor': 351, 'actress': 352, 'consid': 353, 'dark': 354, 'guess': 355, 'amaz': 356, 'unfortun': 357, 'light': 358, 'lost': 359, 'exampl': 360, 'cinema': 361, 'drama': 362, 'white': 363, 'ye': 364, 'experi': 365, 'imagin': 366, 'mention': 367, 'stop': 368, 'natur': 369, 'forc': 370, 'manag': 371, 'felt': 372, 'cut': 373, 'present': 374, 'children': 375, 'fail': 376, 'son': 377, 'qualiti': 378, 'support': 379, 'car': 380, 'ask': 381, 'hit': 382, 'side': 383, 'voic': 384, 'extrem': 385, 'impress': 386, 'evil': 387, 'wors': 388, 'went': 389, 'stand': 390, 'certainli': 391, 'basic': 392, 'oh': 393, 'overal': 394, 'favorit': 395, 'horribl': 396, 'mysteri': 397, 'number': 398, 'type': 399, 'danc': 400, 'wait': 401, 'hero': 402, '5': 403, 'alreadi': 404, 'learn': 405, 'matter': 406, '4': 407, 'michael': 408, 'genr': 409, 'fine': 410, 'despit': 411, 'throughout': 412, 'walk': 413, 'success': 414, 'histori': 415, 'question': 416, 'zombi': 417, 'town': 418, 'relationship': 419, 'realiz': 420, 'past': 421, 'child': 422, 'daughter': 423, 'late': 424, 'b': 425, 'wish': 426, 'credit': 427, 'hate': 428, 'event': 429, 'theme': 430, 'touch': 431, 'citi': 432, 'today': 433, 'sometim': 434, 'behind': 435, 'god': 436, 'twist': 437, 'sit': 438, 'stay': 439, 'annoy': 440, 'deal': 441, 'abl': 442, 'rent': 443, 'pleas': 444, 'edit': 445, 'blood': 446, 'deserv': 447, 'anyway': 448, 'comic': 449, 'appar': 450, 'soon': 451, 'gave': 452, 'etc': 453, 'level': 454, 'slow': 455, 'chanc': 456, 'score': 457, 'bodi': 458, 'brilliant': 459, 'incred': 460, 'figur': 461, 'situat': 462, 'major': 463, 'self': 464, 'stuff': 465, 'decent': 466, 'element': 467, 'dream': 468, 'return': 469, 'obvious': 470, 'order': 471, 'continu': 472, 'pace': 473, 'ridicul': 474, 'happi': 475, 'highli': 476, 'add': 477, 'group': 478, 'thank': 479, 'ladi': 480, 'novel': 481, 'speak': 482, 'pain': 483, 'career': 484, 'shoot': 485, 'strang': 486, 'heard': 487, 'sad': 488, 'polic': 489, 'husband': 490, 'import': 491, 'break': 492, 'took': 493, 'cannot': 494, 'strong': 495, 'robert': 496, 'predict': 497, 'violenc': 498, 'hilari': 499, 'recent': 500, 'countri': 501, 'known': 502, 'particularli': 503, 'pick': 504, 'documentari': 505, 'season': 506, 'critic': 507, 'jame': 508, 'compar': 509, 'obviou': 510, 'alon': 511, 'told': 512, 'state': 513, 'rock': 514, 'visual': 515, 'offer': 516, 'exist': 517, 'theater': 518, 'opinion': 519, 'gore': 520, 'crap': 521, 'hold': 522, 'result': 523, 'hear': 524, 'room': 525, 'realiti': 526, 'effort': 527, 'clich': 528, 'thriller': 529, 'caus': 530, 'serious': 531, 'explain': 532, 'sequel': 533, 'king': 534, 'local': 535, 'ago': 536, 'hell': 537, 'none': 538, 'note': 539, 'allow': 540, 'david': 541, 'sister': 542, 'simpl': 543, 'femal': 544, 'deliv': 545, 'ok': 546, 'convinc': 547, 'class': 548, 'check': 549, 'suspens': 550, 'win': 551, 'oscar': 552, 'buy': 553, 'huge': 554, 'valu': 555, 'sexual': 556, 'cool': 557, 'scari': 558, 'excit': 559, 'similar': 560, 'provid': 561, 'exactli': 562, 'apart': 563, 'shown': 564, 'avoid': 565, 'seriou': 566, 'english': 567, 'taken': 568, 'whose': 569, 'cinematographi': 570, 'shock': 571, 'polit': 572, 'spoiler': 573, 'offic': 574, 'across': 575, 'middl': 576, 'street': 577, 'pass': 578, 'messag': 579, 'charm': 580, 'somewhat': 581, 'silli': 582, 'modern': 583, 'confus': 584, 'filmmak': 585, 'form': 586, 'tale': 587, 'singl': 588, 'jack': 589, 'mostli': 590, 'attent': 591, 'carri': 592, 'william': 593, 'sing': 594, 'subject': 595, 'five': 596, 'prove': 597, 'richard': 598, 'team': 599, 'stage': 600, 'cop': 601, 'unlik': 602, 'georg': 603, 'monster': 604, 'televis': 605, 'earth': 606, 'villain': 607, 'cover': 608, 'pay': 609, 'marri': 610, 'toward': 611, 'build': 612, 'parent': 613, 'pull': 614, 'due': 615, 'respect': 616, 'fill': 617, 'four': 618, 'dialog': 619, 'remind': 620, 'futur': 621, 'weak': 622, 'typic': 623, '7': 624, 'cheap': 625, 'intellig': 626, 'british': 627, 'atmospher': 628, '80': 629, 'clearli': 630, 'non': 631, 'dog': 632, 'paul': 633, 'fast': 634, 'knew': 635, '8': 636, 'artist': 637, 'crime': 638, 'easili': 639, 'escap': 640, 'adult': 641, 'doubt': 642, 'detail': 643, 'date': 644, 'member': 645, 'fire': 646, 'romant': 647, 'drive': 648, 'gun': 649, 'straight': 650, 'beyond': 651, 'fit': 652, 'attack': 653, 'imag': 654, 'upon': 655, 'posit': 656, 'whether': 657, 'peter': 658, 'fantast': 659, 'captur': 660, 'appreci': 661, 'aspect': 662, 'ten': 663, 'plan': 664, 'discov': 665, 'remain': 666, 'period': 667, 'near': 668, 'realist': 669, 'air': 670, 'mark': 671, 'red': 672, 'dull': 673, 'adapt': 674, 'within': 675, 'lose': 676, 'spend': 677, 'materi': 678, 'color': 679, 'chase': 680, 'mari': 681, 'storylin': 682, 'forget': 683, 'bunch': 684, 'clear': 685, 'lee': 686, 'victim': 687, 'nearli': 688, 'box': 689, 'york': 690, 'match': 691, 'inspir': 692, 'mess': 693, 'finish': 694, 'standard': 695, 'easi': 696, 'truth': 697, 'suffer': 698, 'busi': 699, 'space': 700, 'dramat': 701, 'bill': 702, 'western': 703, 'e': 704, 'list': 705, 'battl': 706, 'notic': 707, 'de': 708, 'french': 709, 'ad': 710, '9': 711, 'tom': 712, 'larg': 713, 'among': 714, 'eventu': 715, 'train': 716, 'accept': 717, 'agre': 718, 'spirit': 719, 'soundtrack': 720, 'third': 721, 'teenag': 722, 'adventur': 723, 'soldier': 724, 'sorri': 725, 'famou': 726, 'suggest': 727, 'drug': 728, 'cri': 729, 'normal': 730, 'babi': 731, 'ultim': 732, 'troubl': 733, 'contain': 734, 'certain': 735, 'cultur': 736, 'romanc': 737, 'rare': 738, 'lame': 739, 'somehow': 740, 'disney': 741, 'mix': 742, 'gone': 743, 'cartoon': 744, 'student': 745, 'reveal': 746, 'fear': 747, 'suck': 748, 'kept': 749, 'attract': 750, 'appeal': 751, 'premis': 752, 'design': 753, 'secret': 754, 'greatest': 755, 'shame': 756, 'throw': 757, 'scare': 758, 'copi': 759, 'wit': 760, 'america': 761, 'admit': 762, 'brought': 763, 'relat': 764, 'particular': 765, 'screenplay': 766, 'whatev': 767, 'pure': 768, '70': 769, 'averag': 770, 'harri': 771, 'master': 772, 'describ': 773, 'treat': 774, 'male': 775, '20': 776, 'fantasi': 777, 'issu': 778, 'warn': 779, 'inde': 780, 'background': 781, 'forward': 782, 'project': 783, 'free': 784, 'japanes': 785, 'memor': 786, 'poorli': 787, 'award': 788, 'locat': 789, 'potenti': 790, 'amus': 791, 'struggl': 792, 'magic': 793, 'weird': 794, 'societi': 795, 'okay': 796, 'imdb': 797, 'accent': 798, 'doctor': 799, 'hot': 800, 'water': 801, 'dr': 802, '30': 803, 'express': 804, 'alien': 805, 'odd': 806, 'crazi': 807, 'choic': 808, 'fiction': 809, 'studio': 810, 'control': 811, 'becam': 812, 'masterpiec': 813, 'fli': 814, 'difficult': 815, 'joe': 816, 'scream': 817, 'costum': 818, 'lover': 819, 'refer': 820, 'uniqu': 821, 'remak': 822, 'girlfriend': 823, 'vampir': 824, 'prison': 825, 'execut': 826, 'wear': 827, 'jump': 828, 'wood': 829, 'unless': 830, 'creepi': 831, 'cheesi': 832, 'superb': 833, 'otherwis': 834, 'parti': 835, 'roll': 836, 'ghost': 837, 'public': 838, 'mad': 839, 'depict': 840, 'moral': 841, 'week': 842, 'earlier': 843, 'jane': 844, 'badli': 845, 'fi': 846, 'dumb': 847, 'grow': 848, 'flaw': 849, 'sci': 850, 'deep': 851, 'maker': 852, 'cat': 853, 'footag': 854, 'older': 855, 'connect': 856, 'bother': 857, 'plenti': 858, 'outsid': 859, 'stick': 860, 'gay': 861, 'catch': 862, 'plu': 863, 'co': 864, 'popular': 865, 'equal': 866, 'social': 867, 'disturb': 868, 'quickli': 869, 'perfectli': 870, 'dress': 871, 'era': 872, '90': 873, 'mistak': 874, 'lie': 875, 'ride': 876, 'previou': 877, 'combin': 878, 'concept': 879, 'band': 880, 'rich': 881, 'answer': 882, 'surviv': 883, 'front': 884, 'sweet': 885, 'christma': 886, 'insid': 887, 'concern': 888, 'eat': 889, 'bare': 890, 'beat': 891, 'listen': 892, 'ben': 893, 'c': 894, 'serv': 895, 'term': 896, 'meant': 897, 'german': 898, 'la': 899, 'stereotyp': 900, 'hardli': 901, 'innoc': 902, 'law': 903, 'desper': 904, 'promis': 905, 'memori': 906, 'intent': 907, 'cute': 908, 'steal': 909, 'inform': 910, 'variou': 911, 'brain': 912, 'post': 913, 'tone': 914, 'island': 915, 'amount': 916, 'compani': 917, 'nuditi': 918, 'track': 919, 'store': 920, 'claim': 921, 'hair': 922, '50': 923, 'flat': 924, 'univers': 925, 'land': 926, 'danger': 927, 'kick': 928, 'fairli': 929, 'scott': 930, 'player': 931, 'crew': 932, 'plain': 933, 'step': 934, 'toni': 935, 'share': 936, 'centuri': 937, 'tast': 938, 'engag': 939, 'achiev': 940, 'travel': 941, 'cold': 942, 'rip': 943, 'suit': 944, 'record': 945, 'sadli': 946, 'manner': 947, 'spot': 948, 'tension': 949, 'wrote': 950, 'fascin': 951, 'intens': 952, 'familiar': 953, 'depth': 954, 'remark': 955, 'burn': 956, 'destroy': 957, 'histor': 958, 'sleep': 959, 'purpos': 960, 'languag': 961, 'ruin': 962, 'ignor': 963, 'delight': 964, 'italian': 965, 'unbeliev': 966, 'soul': 967, 'abil': 968, 'collect': 969, 'detect': 970, 'clever': 971, 'violent': 972, 'rape': 973, 'reach': 974, 'door': 975, 'liter': 976, 'scienc': 977, 'trash': 978, 'caught': 979, 'reveng': 980, 'commun': 981, 'creatur': 982, 'approach': 983, 'trip': 984, 'fashion': 985, 'intrigu': 986, 'introduc': 987, 'skill': 988, 'paint': 989, 'complex': 990, 'channel': 991, 'camp': 992, 'christian': 993, 'extra': 994, 'hole': 995, 'mental': 996, 'ann': 997, 'immedi': 998, 'limit': 999, 'million': 1000, '6': 1001, 'comput': 1002, 'slightli': 1003, 'mere': 1004, 'conclus': 1005, 'slasher': 1006, 'suddenli': 1007, 'imposs': 1008, 'teen': 1009, 'neither': 1010, 'crimin': 1011, 'physic': 1012, 'spent': 1013, 'nation': 1014, 'respons': 1015, 'planet': 1016, 'fake': 1017, 'receiv': 1018, 'sick': 1019, 'blue': 1020, 'bizarr': 1021, 'embarrass': 1022, 'indian': 1023, '15': 1024, 'ring': 1025, 'drop': 1026, 'pop': 1027, 'drag': 1028, 'haunt': 1029, 'suspect': 1030, 'pointless': 1031, 'search': 1032, 'edg': 1033, 'handl': 1034, 'common': 1035, 'biggest': 1036, 'faith': 1037, 'hurt': 1038, 'arriv': 1039, 'technic': 1040, 'angel': 1041, 'dad': 1042, 'genuin': 1043, 'awesom': 1044, 'f': 1045, 'solid': 1046, 'van': 1047, 'former': 1048, 'colleg': 1049, 'focu': 1050, 'count': 1051, 'heavi': 1052, 'tear': 1053, 'wall': 1054, 'rais': 1055, 'laughabl': 1056, 'younger': 1057, 'visit': 1058, 'sign': 1059, 'fair': 1060, 'excus': 1061, 'cult': 1062, 'key': 1063, 'motion': 1064, 'tough': 1065, 'super': 1066, 'desir': 1067, 'addit': 1068, 'stun': 1069, 'cloth': 1070, 'exploit': 1071, 'smith': 1072, 'tortur': 1073, 'race': 1074, 'davi': 1075, 'cross': 1076, 'author': 1077, 'jim': 1078, 'minor': 1079, 'consist': 1080, 'focus': 1081, 'compel': 1082, 'pathet': 1083, 'chemistri': 1084, 'commit': 1085, 'park': 1086, 'obsess': 1087, 'frank': 1088, 'tradit': 1089, 'grade': 1090, '60': 1091, 'asid': 1092, 'brutal': 1093, 'somewher': 1094, 'steve': 1095, 'explor': 1096, 'opportun': 1097, 'grant': 1098, 'depress': 1099, 'rule': 1100, 'u': 1101, 'besid': 1102, 'honest': 1103, 'anti': 1104, 'dub': 1105, 'trailer': 1106, 'intend': 1107, 'bar': 1108, 'west': 1109, 'scientist': 1110, 'regard': 1111, 'longer': 1112, 'judg': 1113, 'decad': 1114, 'silent': 1115, 'armi': 1116, 'creativ': 1117, 'wild': 1118, 'stewart': 1119, 'g': 1120, 'south': 1121, 'draw': 1122, 'road': 1123, 'govern': 1124, 'ex': 1125, 'boss': 1126, 'practic': 1127, 'festiv': 1128, 'gang': 1129, 'motiv': 1130, 'club': 1131, 'surprisingli': 1132, 'page': 1133, 'redeem': 1134, 'london': 1135, 'green': 1136, 'machin': 1137, 'display': 1138, 'militari': 1139, 'aliv': 1140, 'idiot': 1141, 'thrill': 1142, 'repeat': 1143, 'folk': 1144, 'yeah': 1145, '100': 1146, 'nobodi': 1147, '40': 1148, 'garbag': 1149, 'journey': 1150, 'smile': 1151, 'ground': 1152, 'tire': 1153, 'bought': 1154, 'mood': 1155, 'cost': 1156, 'stone': 1157, 'sam': 1158, 'noir': 1159, 'mouth': 1160, 'terrif': 1161, 'agent': 1162, 'requir': 1163, 'utterli': 1164, 'honestli': 1165, 'sexi': 1166, 'area': 1167, 'report': 1168, 'geniu': 1169, 'investig': 1170, 'glad': 1171, 'humour': 1172, 'enter': 1173, 'serial': 1174, 'narr': 1175, 'passion': 1176, 'occasion': 1177, 'climax': 1178, 'marriag': 1179, 'studi': 1180, 'industri': 1181, 'demon': 1182, 'charli': 1183, 'center': 1184, 'ship': 1185, 'nowher': 1186, 'loos': 1187, 'bear': 1188, 'hors': 1189, 'wow': 1190, 'hang': 1191, 'graphic': 1192, 'admir': 1193, 'giant': 1194, 'send': 1195, 'loud': 1196, 'damn': 1197, 'subtl': 1198, 'rel': 1199, 'profession': 1200, 'nake': 1201, 'blow': 1202, 'bottom': 1203, 'insult': 1204, 'batman': 1205, 'boyfriend': 1206, 'doubl': 1207, 'r': 1208, 'kelli': 1209, 'initi': 1210, 'frame': 1211, 'gem': 1212, 'opera': 1213, 'affect': 1214, 'church': 1215, 'drawn': 1216, 'cinemat': 1217, 'challeng': 1218, 'seek': 1219, 'nightmar': 1220, 'j': 1221, 'evid': 1222, 'fulli': 1223, 'l': 1224, 'arm': 1225, 'conflict': 1226, 'essenti': 1227, 'grace': 1228, 'christoph': 1229, 'wind': 1230, 'henri': 1231, 'assum': 1232, 'witch': 1233, 'narrat': 1234, 'hunt': 1235, 'push': 1236, 'wise': 1237, 'chri': 1238, 'month': 1239, 'repres': 1240, 'nomin': 1241, 'avail': 1242, 'affair': 1243, 'hide': 1244, 'sceneri': 1245, 'smart': 1246, 'bond': 1247, 'justic': 1248, 'thu': 1249, 'flashback': 1250, 'outstand': 1251, 'interview': 1252, 'constantli': 1253, 'satisfi': 1254, 'presenc': 1255, 'central': 1256, 'bed': 1257, 'sell': 1258, 'content': 1259, 'iron': 1260, 'everybodi': 1261, 'gag': 1262, 'slowli': 1263, 'hotel': 1264, 'hire': 1265, 'system': 1266, 'charl': 1267, 'individu': 1268, 'adam': 1269, 'thrown': 1270, 'hey': 1271, 'allen': 1272, 'mediocr': 1273, 'jone': 1274, 'lesson': 1275, 'billi': 1276, 'ray': 1277, 'cameo': 1278, 'photographi': 1279, 'pari': 1280, 'fellow': 1281, 'strike': 1282, 'independ': 1283, 'rise': 1284, 'absurd': 1285, 'brief': 1286, 'neg': 1287, 'phone': 1288, 'impact': 1289, 'model': 1290, 'ill': 1291, 'born': 1292, 'spoil': 1293, 'angl': 1294, 'fresh': 1295, 'abus': 1296, 'likabl': 1297, 'discuss': 1298, 'hill': 1299, 'sight': 1300, 'ahead': 1301, 'photograph': 1302, 'sent': 1303, 'shine': 1304, 'blame': 1305, 'occur': 1306, 'logic': 1307, 'bruce': 1308, 'mainli': 1309, 'forev': 1310, 'skip': 1311, 'commerci': 1312, 'teacher': 1313, 'held': 1314, 'segment': 1315, 'surround': 1316, 'blond': 1317, 'zero': 1318, 'resembl': 1319, 'satir': 1320, 'summer': 1321, 'trap': 1322, 'fool': 1323, 'ball': 1324, 'queen': 1325, 'six': 1326, 'tragedi': 1327, 'twice': 1328, 'sub': 1329, 'pack': 1330, 'reaction': 1331, 'bomb': 1332, 'hospit': 1333, 'will': 1334, 'protagonist': 1335, 'sport': 1336, 'mile': 1337, 'vote': 1338, 'mom': 1339, 'trust': 1340, 'drink': 1341, 'jerri': 1342, 'encount': 1343, 'plane': 1344, 'current': 1345, 'station': 1346, 'al': 1347, 'program': 1348, 'martin': 1349, 'celebr': 1350, 'choos': 1351, 'join': 1352, 'round': 1353, 'field': 1354, 'lord': 1355, 'tragic': 1356, 'favourit': 1357, 'robot': 1358, 'jean': 1359, 'vision': 1360, 'tie': 1361, 'arthur': 1362, 'roger': 1363, 'fortun': 1364, 'random': 1365, 'intern': 1366, 'psycholog': 1367, 'dread': 1368, 'nonsens': 1369, 'improv': 1370, 'prefer': 1371, 'epic': 1372, 'pleasur': 1373, 'legend': 1374, 'highlight': 1375, 'formula': 1376, 'dollar': 1377, '11': 1378, 'tape': 1379, 'gorgeou': 1380, 'thin': 1381, 'fox': 1382, 'object': 1383, 'porn': 1384, 'wide': 1385, 'buddi': 1386, 'ugli': 1387, 'influenc': 1388, 'prepar': 1389, 'nasti': 1390, 'ii': 1391, 'supposedli': 1392, 'progress': 1393, 'warm': 1394, 'reflect': 1395, 'youth': 1396, 'worthi': 1397, 'length': 1398, 'latter': 1399, 'unusu': 1400, 'crash': 1401, 'childhood': 1402, 'shop': 1403, 'seven': 1404, 'superior': 1405, 'theatr': 1406, 'remot': 1407, 'pilot': 1408, 'funniest': 1409, 'paid': 1410, 'disgust': 1411, 'castl': 1412, 'fell': 1413, 'trick': 1414, 'convers': 1415, 'gangster': 1416, 'disast': 1417, 'rob': 1418, 'establish': 1419, 'mine': 1420, 'disappear': 1421, 'suicid': 1422, 'heaven': 1423, 'ident': 1424, 'heroin': 1425, 'singer': 1426, 'decis': 1427, 'forgotten': 1428, 'mask': 1429, 'tend': 1430, 'brian': 1431, 'partner': 1432, 'recogn': 1433, 'desert': 1434, 'alan': 1435, 'p': 1436, 'sky': 1437, 'stuck': 1438, 'thoroughli': 1439, 'ms': 1440, 'replac': 1441, 'accur': 1442, 'market': 1443, 'clue': 1444, 'seemingli': 1445, 'eddi': 1446, 'uncl': 1447, 'danni': 1448, 'andi': 1449, 'commentari': 1450, 'devil': 1451, 'jackson': 1452, 'refus': 1453, 'that': 1454, 'therefor': 1455, 'pair': 1456, 'river': 1457, 'fate': 1458, 'fault': 1459, 'unit': 1460, 'ed': 1461, 'accid': 1462, 'tune': 1463, 'afraid': 1464, 'clean': 1465, 'hidden': 1466, 'russian': 1467, 'stephen': 1468, 'readi': 1469, 'test': 1470, 'convey': 1471, 'quick': 1472, 'irrit': 1473, 'instanc': 1474, 'captain': 1475, 'european': 1476, 'frustrat': 1477, 'daniel': 1478, 'insan': 1479, 'wed': 1480, 'food': 1481, 'rescu': 1482, '1950': 1483, 'chines': 1484, 'lock': 1485, 'dirti': 1486, 'angri': 1487, 'joy': 1488, 'price': 1489, 'steven': 1490, 'bland': 1491, 'cage': 1492, 'rang': 1493, 'anymor': 1494, 'wooden': 1495, 'jason': 1496, 'news': 1497, 'rush': 1498, 'n': 1499, '12': 1500, 'worri': 1501, 'led': 1502, 'twenti': 1503, 'board': 1504, 'martial': 1505, 'transform': 1506, 'hunter': 1507, 'symbol': 1508, 'cgi': 1509, 'sentiment': 1510, 'onto': 1511, 'x': 1512, 'piti': 1513, 'johnni': 1514, 'invent': 1515, 'attitud': 1516, 'process': 1517, 'explan': 1518, 'awar': 1519, 'owner': 1520, 'aim': 1521, 'necessari': 1522, 'target': 1523, 'energi': 1524, 'favor': 1525, 'floor': 1526, 'opposit': 1527, 'religi': 1528, 'chick': 1529, 'window': 1530, 'blind': 1531, 'insight': 1532, 'movement': 1533, 'possess': 1534, 'research': 1535, 'deepli': 1536, 'mountain': 1537, 'comparison': 1538, 'whatsoev': 1539, 'comed': 1540, 'grand': 1541, 'rain': 1542, 'mid': 1543, 'shadow': 1544, 'began': 1545, 'bank': 1546, 'parodi': 1547, 'princ': 1548, 'friendship': 1549, 'weapon': 1550, 'pre': 1551, 'credibl': 1552, 'taylor': 1553, 'dougla': 1554, 'flesh': 1555, 'teach': 1556, 'hint': 1557, 'bloodi': 1558, 'terror': 1559, 'protect': 1560, 'marvel': 1561, 'watchabl': 1562, 'anybodi': 1563, 'accord': 1564, 'drunk': 1565, 'leader': 1566, 'load': 1567, 'superman': 1568, 'brown': 1569, 'freddi': 1570, 'tim': 1571, 'hitler': 1572, 'seat': 1573, 'jeff': 1574, 'appropri': 1575, 'knock': 1576, 'villag': 1577, 'charg': 1578, 'unknown': 1579, 'keaton': 1580, 'enemi': 1581, 'england': 1582, 'media': 1583, 'unnecessari': 1584, 'empti': 1585, 'utter': 1586, 'craft': 1587, 'strength': 1588, 'dare': 1589, 'perspect': 1590, 'buck': 1591, 'wave': 1592, 'correct': 1593, 'nativ': 1594, 'ford': 1595, 'contrast': 1596, 'kiss': 1597, 'speed': 1598, 'magnific': 1599, 'knowledg': 1600, 'soap': 1601, 'anywher': 1602, 'nazi': 1603, 'distract': 1604, 'chill': 1605, '1980': 1606, 'ice': 1607, 'mission': 1608, 'fred': 1609, 'breath': 1610, 'joan': 1611, 'moon': 1612, 'jr': 1613, 'crowd': 1614, '000': 1615, 'soft': 1616, 'kate': 1617, 'frighten': 1618, 'nick': 1619, 'dan': 1620, 'hundr': 1621, 'dick': 1622, 'dozen': 1623, 'simon': 1624, 'radio': 1625, 'somebodi': 1626, 'andrew': 1627, 'thousand': 1628, 'academi': 1629, 'shakespear': 1630, 'loss': 1631, 'quot': 1632, 'account': 1633, 'root': 1634, 'vehicl': 1635, 'sum': 1636, '1970': 1637, 'convent': 1638, 'behavior': 1639, 'leg': 1640, 'regular': 1641, 'gold': 1642, 'pretenti': 1643, 'demand': 1644, 'compet': 1645, 'worker': 1646, 'lynch': 1647, 'explos': 1648, 'notabl': 1649, 'interpret': 1650, 'privat': 1651, 'japan': 1652, 'stretch': 1653, 'candi': 1654, 'debut': 1655, 'constant': 1656, 'tarzan': 1657, 'spi': 1658, 'sea': 1659, 'prais': 1660, 'revolv': 1661, 'translat': 1662, 'quiet': 1663, 'ass': 1664, 'sat': 1665, 'franc': 1666, 'failur': 1667, 'threaten': 1668, 'jesu': 1669, 'technolog': 1670, 'aid': 1671, 'higher': 1672, 'kevin': 1673, 'punch': 1674, 'toy': 1675, 'met': 1676, 'vh': 1677, 'abandon': 1678, 'interact': 1679, 'mike': 1680, 'separ': 1681, 'command': 1682, 'confront': 1683, 'bet': 1684, 'stunt': 1685, 'recal': 1686, 'gotten': 1687, 'techniqu': 1688, 'belong': 1689, 'site': 1690, 'servic': 1691, 'bug': 1692, 'foot': 1693, 'cabl': 1694, 'freak': 1695, 'bright': 1696, 'capabl': 1697, 'fu': 1698, 'african': 1699, 'jimmi': 1700, 'stock': 1701, 'boat': 1702, 'succeed': 1703, 'clark': 1704, 'fat': 1705, 'presid': 1706, 'gene': 1707, 'structur': 1708, 'spanish': 1709, 'paper': 1710, 'kidnap': 1711, 'belief': 1712, 'factor': 1713, 'whilst': 1714, 'realis': 1715, 'attend': 1716, 'witti': 1717, 'educ': 1718, 'realism': 1719, 'complic': 1720, 'bob': 1721, 'tree': 1722, 'assist': 1723, 'broken': 1724, 'finest': 1725, 'santa': 1726, 'smoke': 1727, 'v': 1728, 'up': 1729, 'depart': 1730, 'determin': 1731, 'observ': 1732, 'domin': 1733, 'fame': 1734, 'rubbish': 1735, 'oper': 1736, 'hat': 1737, 'routin': 1738, 'lewi': 1739, 'morgan': 1740, 'advanc': 1741, 'foreign': 1742, 'lone': 1743, 'hook': 1744, 'safe': 1745, 'kinda': 1746, 'numer': 1747, 'rank': 1748, 'shallow': 1749, 'civil': 1750, 'shape': 1751, 'rose': 1752, 'washington': 1753, 'vs': 1754, 'werewolf': 1755, 'morn': 1756, 'gari': 1757, 'ordinari': 1758, 'accomplish': 1759, 'winner': 1760, 'kong': 1761, 'grab': 1762, 'peac': 1763, 'whenev': 1764, 'virtual': 1765, 'h': 1766, 'offens': 1767, 'luck': 1768, 'activ': 1769, 'bigger': 1770, 'complain': 1771, 'unfunni': 1772, 'patient': 1773, 'contriv': 1774, 'welcom': 1775, 'dimension': 1776, 'trek': 1777, 'con': 1778, 'pretend': 1779, 'eric': 1780, 'dri': 1781, 'code': 1782, 'wake': 1783, 'cain': 1784, 'lesbian': 1785, 'flash': 1786, 'statu': 1787, 'manipul': 1788, 'guard': 1789, 'albert': 1790, 'dancer': 1791, 'corrupt': 1792, 'gain': 1793, 'sourc': 1794, 'signific': 1795, 'awkward': 1796, 'speech': 1797, 'context': 1798, '13': 1799, 'corni': 1800, 'sean': 1801, 'clip': 1802, 'anthoni': 1803, 'psycho': 1804, 'priest': 1805, 'religion': 1806, 'reli': 1807, 'theatric': 1808, 'w': 1809, 'advic': 1810, 'curiou': 1811, 'flow': 1812, 'addict': 1813, 'skin': 1814, 'secur': 1815, 'jennif': 1816, 'specif': 1817, 'asian': 1818, 'howard': 1819, 'comfort': 1820, 'organ': 1821, 'luke': 1822, 'core': 1823, 'golden': 1824, 'promot': 1825, 'cheat': 1826, 'cash': 1827, 'lucki': 1828, 'lower': 1829, 'associ': 1830, 'dislik': 1831, 'wing': 1832, 'spell': 1833, 'contribut': 1834, 'frequent': 1835, 'regret': 1836, 'devic': 1837, 'balanc': 1838, 'frankli': 1839, 'degre': 1840, 'print': 1841, 'lake': 1842, 'sake': 1843, 'forgiv': 1844, 'mass': 1845, 'betti': 1846, 'thoma': 1847, 'crack': 1848, 'unexpect': 1849, 'gordon': 1850, 'invit': 1851, 'unfold': 1852, 'amateur': 1853, 'grown': 1854, 'depend': 1855, 'categori': 1856, 'construct': 1857, 'anna': 1858, 'intellectu': 1859, 'walter': 1860, 'matur': 1861, 'grew': 1862, 'condit': 1863, 'honor': 1864, 'veteran': 1865, 'spectacular': 1866, 'sole': 1867, 'mirror': 1868, 'sudden': 1869, 'freedom': 1870, 'liner': 1871, 'meanwhil': 1872, 'robin': 1873, 'demonstr': 1874, 'card': 1875, 'gift': 1876, 'grip': 1877, 'overli': 1878, 'experienc': 1879, 'subtitl': 1880, 'section': 1881, 'drew': 1882, 'circumst': 1883, 'sheriff': 1884, 'theori': 1885, 'oliv': 1886, 'crappi': 1887, 'brilliantli': 1888, 'colour': 1889, 'unabl': 1890, 'pile': 1891, 'parker': 1892, 'matt': 1893, 'laughter': 1894, 'sheer': 1895, 'altern': 1896, 'path': 1897, 'cook': 1898, 'lawyer': 1899, 'defin': 1900, 'treatment': 1901, 'relief': 1902, 'wander': 1903, 'sinatra': 1904, 'accident': 1905, 'hall': 1906, 'captiv': 1907, 'dragon': 1908, 'hank': 1909, 'moor': 1910, 'gratuit': 1911, 'halloween': 1912, 'wound': 1913, 'kung': 1914, 'wayn': 1915, 'broadway': 1916, 'cowboy': 1917, 'unintent': 1918, 'barbara': 1919, 'k': 1920, 'jacki': 1921, 'spoof': 1922, 'winter': 1923, 'statement': 1924, 'surreal': 1925, 'canadian': 1926, 'gonna': 1927, 'fish': 1928, 'treasur': 1929, 'compos': 1930, 'fare': 1931, 'cheer': 1932, 'woodi': 1933, 'unrealist': 1934, 'victor': 1935, 'emerg': 1936, 'sensit': 1937, 'neighbor': 1938, 'driven': 1939, 'sympathet': 1940, 'ran': 1941, 'overlook': 1942, 'glass': 1943, 'expos': 1944, 'menac': 1945, 'authent': 1946, 'topic': 1947, 'handsom': 1948, 'ancient': 1949, 'gross': 1950, 'chief': 1951, 'michel': 1952, 'contemporari': 1953, 'built': 1954, 'comedian': 1955, 'pleasant': 1956, 'network': 1957, 'feet': 1958, 'russel': 1959, 'stranger': 1960, 'nevertheless': 1961, 'cinderella': 1962, 'blockbust': 1963, 'earn': 1964, 'miser': 1965, 'consider': 1966, 'gori': 1967, 'underr': 1968, 'letter': 1969, 'endless': 1970, 'solv': 1971, 'switch': 1972, 'brook': 1973, 'joseph': 1974, 'convict': 1975, 'edward': 1976, 'virgin': 1977, 'bullet': 1978, 'victoria': 1979, 'alex': 1980, 'cynic': 1981, 'scale': 1982, 'chosen': 1983, 'scenario': 1984, '0': 1985, 'gut': 1986, 'com': 1987, 'curs': 1988, 'sword': 1989, 'outrag': 1990, 'proper': 1991, 'substanc': 1992, 'juli': 1993, 'uk': 1994, 'screenwrit': 1995, 'wrap': 1996, 'driver': 1997, 'monkey': 1998, 'remov': 1999, 'par': 2000, 'indic': 2001, 'court': 2002, 'bird': 2003, 'nanci': 2004, 'rental': 2005, 'consequ': 2006, 'advertis': 2007, 'inevit': 2008, 'loser': 2009, 'naiv': 2010, 'roy': 2011, 'grave': 2012, 'brave': 2013, 'slap': 2014, 'fatal': 2015, 'germani': 2016, 'le': 2017, 'bridg': 2018, 'invis': 2019, 'anger': 2020, 'ador': 2021, 'footbal': 2022, 'loui': 2023, 'provok': 2024, 'alcohol': 2025, 'anderson': 2026, 'chan': 2027, 'stumbl': 2028, 'ryan': 2029, 'professor': 2030, 'willi': 2031, 'australian': 2032, 'patrick': 2033, 'sharp': 2034, 'assassin': 2035, '1930': 2036, 'bat': 2037, 'cell': 2038, 'refresh': 2039, 'ape': 2040, 'eight': 2041, 'lousi': 2042, 'heck': 2043, 'saturday': 2044, 'liber': 2045, 'amateurish': 2046, 'deni': 2047, 'strongli': 2048, 'trilog': 2049, 'sin': 2050, 'resid': 2051, 'vagu': 2052, 'justifi': 2053, 'san': 2054, 'reput': 2055, 'defeat': 2056, 'sympathi': 2057, 'indi': 2058, 'creator': 2059, 'mini': 2060, 'terrifi': 2061, 'expert': 2062, 'tabl': 2063, 'endur': 2064, 'task': 2065, 'tediou': 2066, 'prevent': 2067, 'offend': 2068, 'basebal': 2069, 'trial': 2070, 'imit': 2071, 'rival': 2072, 'employ': 2073, 'che': 2074, 'beach': 2075, 'max': 2076, 'europ': 2077, 'pitch': 2078, 'complaint': 2079, 'dig': 2080, 'weekend': 2081, 'fairi': 2082, 'risk': 2083, 'purchas': 2084, 'murphi': 2085, 'format': 2086, 'nois': 2087, 'tini': 2088, 'bite': 2089, 'harsh': 2090, 'powel': 2091, 'reminisc': 2092, 'hype': 2093, 'glimps': 2094, 'titan': 2095, 'till': 2096, 'fals': 2097, 'north': 2098, '14': 2099, 'strip': 2100, 'prime': 2101, 'asleep': 2102, 'destruct': 2103, 'africa': 2104, 'revel': 2105, 'descript': 2106, 'texa': 2107, 'sitcom': 2108, 'arrest': 2109, 'semi': 2110, 'surfac': 2111, 'uninterest': 2112, 'excess': 2113, 'inner': 2114, 'spin': 2115, 'maintain': 2116, 'makeup': 2117, 'twin': 2118, 'argu': 2119, 'hitchcock': 2120, 'controversi': 2121, 'dinosaur': 2122, 'massiv': 2123, 'expens': 2124, 'melodrama': 2125, 'reject': 2126, 'ludicr': 2127, 'kim': 2128, 'insist': 2129, 'stare': 2130, 'ideal': 2131, 'supernatur': 2132, 'press': 2133, 'forest': 2134, 'subplot': 2135, 'nail': 2136, 'ga': 2137, 'erot': 2138, 'columbo': 2139, 'ala': 2140, 'atroci': 2141, 'host': 2142, 'notch': 2143, 'presum': 2144, 'cant': 2145, 'dude': 2146, 'identifi': 2147, 'method': 2148, 'character': 2149, 'closer': 2150, 'forgett': 2151, 'crude': 2152, 'plagu': 2153, 'guest': 2154, 'lion': 2155, 'ear': 2156, 'landscap': 2157, 'border': 2158, 'princess': 2159, 'beast': 2160, 'foster': 2161, 'aunt': 2162, 'bound': 2163, 'damag': 2164, 'birth': 2165, 'accus': 2166, 'jungl': 2167, 'previous': 2168, 'pacino': 2169, 'storytel': 2170, 'urban': 2171, 'guid': 2172, 'emma': 2173, 'thirti': 2174, 'propaganda': 2175, 'chose': 2176, 'nude': 2177, 'jess': 2178, 'doll': 2179, 'mainstream': 2180, 'whoever': 2181, 'warrior': 2182, 'mate': 2183, '25': 2184, 'pet': 2185, 'gritti': 2186, 'size': 2187, 'merit': 2188, 'exact': 2189, 'deadli': 2190, 'latest': 2191, 'poster': 2192, 'cooper': 2193, 'upset': 2194, 'friday': 2195, '1990': 2196, 'rough': 2197, 'warner': 2198, 'wilson': 2199, 'corps': 2200, 'contact': 2201, 'blend': 2202, 'ton': 2203, 'citizen': 2204, 'buff': 2205, 'sun': 2206, 'settl': 2207, 'popul': 2208, 'contest': 2209, 'pitt': 2210, 'environ': 2211, 'select': 2212, 'alic': 2213, 'overcom': 2214, 'bu': 2215, 'rat': 2216, 'mgm': 2217, 'widow': 2218, 'metal': 2219, 'guilti': 2220, 'lift': 2221, 'particip': 2222, 'ted': 2223, 'revolut': 2224, 'link': 2225, 'exagger': 2226, 'moron': 2227, 'corner': 2228, 'johnson': 2229, 'prostitut': 2230, '1960': 2231, 'corpor': 2232, 'afternoon': 2233, 'accompani': 2234, 'matrix': 2235, 'doom': 2236, 'leagu': 2237, 'sincer': 2238, 'hood': 2239, 'holm': 2240, 'friendli': 2241, 'instal': 2242, 'clair': 2243, 'multipl': 2244, 'junk': 2245, 'string': 2246, 'grim': 2247, 'sunday': 2248, 'advis': 2249, 'aka': 2250, 'irish': 2251, 'examin': 2252, 'defend': 2253, 'campi': 2254, 'blah': 2255, 'lugosi': 2256, 'hip': 2257, 'icon': 2258, 'shut': 2259, 'confid': 2260, 'tight': 2261, 'pro': 2262, 'shake': 2263, 'varieti': 2264, 'rachel': 2265, 'goal': 2266, 'denni': 2267, 'medic': 2268, 'mexican': 2269, 'attach': 2270, 'directli': 2271, 'sullivan': 2272, 'jaw': 2273, 'legendari': 2274, 'breast': 2275, 'sentenc': 2276, 'courag': 2277, 'terrorist': 2278, 'vietnam': 2279, 'dean': 2280, 'truck': 2281, 'prior': 2282, 'sarah': 2283, 'duke': 2284, 'bourn': 2285, 'split': 2286, 'un': 2287, 'behav': 2288, 'donald': 2289, 'entri': 2290, 'nose': 2291, 'yell': 2292, 'proceed': 2293, 'hong': 2294, 'crush': 2295, 'gather': 2296, 'forth': 2297, 'everywher': 2298, 'buri': 2299, 'swim': 2300, 'confess': 2301, 'borrow': 2302, 'jerk': 2303, 'lifetim': 2304, 'concentr': 2305, 'stolen': 2306, 'unconvinc': 2307, 'julia': 2308, 'turkey': 2309, 'spite': 2310, 'pan': 2311, 'lip': 2312, 'california': 2313, 'deliveri': 2314, 'proud': 2315, 'reward': 2316, 'freeman': 2317, 'offici': 2318, 'downright': 2319, 'hoffman': 2320, 'quest': 2321, 'china': 2322, 'flight': 2323, 'fabul': 2324, 'worthwhil': 2325, 'fade': 2326, 'lazi': 2327, 'sink': 2328, 'jail': 2329, 'sir': 2330, 'betray': 2331, 'jon': 2332, 'encourag': 2333, 'notori': 2334, 'inept': 2335, 'bag': 2336, 'susan': 2337, 'branagh': 2338, 'storm': 2339, 'relev': 2340, 'teeth': 2341, 'imageri': 2342, 'shower': 2343, 'cousin': 2344, 'bell': 2345, 'retard': 2346, 'survivor': 2347, 'lisa': 2348, 'summari': 2349, 'quirki': 2350, 'alright': 2351, 'tremend': 2352, 'shark': 2353, 'toler': 2354, 'bride': 2355, 'hugh': 2356, 'trade': 2357, 'finger': 2358, 'stab': 2359, 'facial': 2360, 'mexico': 2361, 'pose': 2362, 'von': 2363, 'blown': 2364, 'hyster': 2365, 'bitter': 2366, 'ha': 2367, 'ron': 2368, 'ned': 2369, 'afterward': 2370, 'bone': 2371, 'cruel': 2372, 'scheme': 2373, 'christ': 2374, 'larri': 2375, 'address': 2376, 'pursu': 2377, 'swear': 2378, 'beg': 2379, 'traci': 2380, 'thumb': 2381, 'screw': 2382, 'tour': 2383, 'feed': 2384, 'snake': 2385, 'distinct': 2386, 'photo': 2387, 'chair': 2388, 'raw': 2389, 'mechan': 2390, 'occas': 2391, 'stomach': 2392, 'obscur': 2393, 'hardi': 2394, 'gruesom': 2395, 'cabin': 2396, 'argument': 2397, 'heavili': 2398, 'southern': 2399, 'chain': 2400, 'holiday': 2401, 'render': 2402, 'resist': 2403, 'sidney': 2404, 'necessarili': 2405, 'satan': 2406, 'understood': 2407, 'racist': 2408, 'india': 2409, 'indulg': 2410, 'philip': 2411, 'belov': 2412, 'fourth': 2413, 'tongu': 2414, 'lay': 2415, 'outfit': 2416, 'pregnant': 2417, 'forgot': 2418, 'midnight': 2419, 'stalk': 2420, 'obnoxi': 2421, 'integr': 2422, 'inhabit': 2423, 'magazin': 2424, 'restor': 2425, '17': 2426, 'garden': 2427, 'deeper': 2428, 'carol': 2429, 'slapstick': 2430, 'ticket': 2431, 'brad': 2432, 'shoe': 2433, 'incid': 2434, 'devot': 2435, 'lincoln': 2436, 'disbelief': 2437, 'divorc': 2438, 'underground': 2439, 'maria': 2440, 'guarante': 2441, 'lili': 2442, 'benefit': 2443, 'sandler': 2444, 'anticip': 2445, 'elizabeth': 2446, 'explod': 2447, 'princip': 2448, 'creation': 2449, 'slave': 2450, 'bbc': 2451, 'cring': 2452, 'capit': 2453, 'amazingli': 2454, 'greater': 2455, 'mildli': 2456, 'funnier': 2457, 'lesli': 2458, 'extraordinari': 2459, 'halfway': 2460, 'introduct': 2461, 'tap': 2462, 'transfer': 2463, 'text': 2464, 'extent': 2465, 'punish': 2466, 'wreck': 2467, 'advantag': 2468, 'overwhelm': 2469, 'enhanc': 2470, 'lo': 2471, 'plant': 2472, 'dynam': 2473, 'lane': 2474, 'horrif': 2475, 'jessica': 2476, 'error': 2477, 'east': 2478, 'preview': 2479, 'deliber': 2480, 'sophist': 2481, 'vacat': 2482, 'appli': 2483, 'miscast': 2484, 'miller': 2485, 'ensu': 2486, '2000': 2487, 'homosexu': 2488, 'basi': 2489, 'vincent': 2490, 'spoken': 2491, 'elev': 2492, 'uncomfort': 2493, 'via': 2494, 'mansion': 2495, 'measur': 2496, 'extend': 2497, 'reed': 2498, 'bollywood': 2499, 'steel': 2500, 'sleazi': 2501, 'beer': 2502, 'melt': 2503, 'conceiv': 2504, 'goofi': 2505, 'cathol': 2506, 'savag': 2507, 'overact': 2508, 'mous': 2509, 'dentist': 2510, 'fix': 2511, 'alter': 2512, 'assign': 2513, 'daili': 2514, 'blair': 2515, 'stanley': 2516, 'breathtak': 2517, 'hippi': 2518, 'succe': 2519, 'subsequ': 2520, 'everyday': 2521, 'sacrific': 2522, 'carpent': 2523, 'properli': 2524, 'inspector': 2525, 'oppos': 2526, 'nowaday': 2527, 'burt': 2528, 'neck': 2529, 'circl': 2530, 'laura': 2531, 'massacr': 2532, 'block': 2533, 'access': 2534, 'portrait': 2535, 'fay': 2536, 'pool': 2537, 'grey': 2538, 'lesser': 2539, 'concert': 2540, 'christi': 2541, 'fallen': 2542, 'mob': 2543, 'seagal': 2544, 'chees': 2545, 'isol': 2546, 'relax': 2547, 'jewish': 2548, 'competit': 2549, 'sinist': 2550, 'usa': 2551, 'react': 2552, 'jake': 2553, 'suitabl': 2554, 'spiritu': 2555, 'nonetheless': 2556, 'ironi': 2557, 'stink': 2558, 'appal': 2559, 'chop': 2560, '2006': 2561, 'creep': 2562, 'immens': 2563, 'lyric': 2564, 'nine': 2565, 'adopt': 2566, 'rage': 2567, 'franchis': 2568, 'spring': 2569, 'needless': 2570, 'navi': 2571, 'user': 2572, 'reduc': 2573, 'nut': 2574, 'sold': 2575, 'luci': 2576, 'retir': 2577, 'shirt': 2578, 'showcas': 2579, 'per': 2580, 'uninspir': 2581, 'bath': 2582, 'asham': 2583, 'nurs': 2584, 'zone': 2585, 'bulli': 2586, 'digit': 2587, 'stanwyck': 2588, 'jay': 2589, 'amongst': 2590, 'illustr': 2591, '1940': 2592, 'sutherland': 2593, 'laid': 2594, 'oddli': 2595, '2001': 2596, 'upper': 2597, 'broadcast': 2598, 'aspir': 2599, 'fulfil': 2600, 'throat': 2601, 'brando': 2602, 'stylish': 2603, 'baker': 2604, 'disguis': 2605, 'wanna': 2606, 'thief': 2607, 'neighborhood': 2608, 'nobl': 2609, 'wwii': 2610, 'pound': 2611, 'endear': 2612, 'pride': 2613, 'em': 2614, 'impli': 2615, '18': 2616, 'diseas': 2617, 'dawn': 2618, 'cinematograph': 2619, 'tens': 2620, 'shoulder': 2621, 'rochest': 2622, 'bett': 2623, 'distribut': 2624, 'coher': 2625, 'prop': 2626, 'dinner': 2627, '16': 2628, 'bo': 2629, 'shift': 2630, 'albeit': 2631, 'wash': 2632, 'surf': 2633, 'poignant': 2634, 'matthau': 2635, 'knife': 2636, 'rebel': 2637, 'snow': 2638, 'function': 2639, 'forti': 2640, 'shout': 2641, 'silenc': 2642, 'contract': 2643, 'silver': 2644, 'height': 2645, 'proof': 2646, 'eeri': 2647, 'duti': 2648, 'derek': 2649, 'cannib': 2650, 'horrend': 2651, 'widmark': 2652, 'cancel': 2653, 'instinct': 2654, 'reunion': 2655, 'heat': 2656, 'chuck': 2657, 'elvira': 2658, 'mindless': 2659, 'henc': 2660, 'internet': 2661, 'absorb': 2662, 'alik': 2663, 'neat': 2664, 'musician': 2665, 'mill': 2666, 'torn': 2667, 'glori': 2668, 'incoher': 2669, 'repetit': 2670, 'etern': 2671, 'innov': 2672, 'elvi': 2673, 'pie': 2674, 'premier': 2675, 'spielberg': 2676, 'greatli': 2677, 'diamond': 2678, 'fbi': 2679, 'horrifi': 2680, 'itali': 2681, 'wealthi': 2682, 'blank': 2683, 'burton': 2684, 'precis': 2685, 'crisi': 2686, 'trite': 2687, 'britain': 2688, 'redempt': 2689, 'racism': 2690, 'bang': 2691, 'infam': 2692, 'announc': 2693, 'lovabl': 2694, 'nelson': 2695, 'homag': 2696, 'dedic': 2697, 'parallel': 2698, 'ensembl': 2699, 'happili': 2700, 'streisand': 2701, 'helen': 2702, 'flop': 2703, 'resolut': 2704, 'wilder': 2705, 'hammer': 2706, 'chaplin': 2707, 'pat': 2708, 'broke': 2709, 'disagre': 2710, 'factori': 2711, 'carter': 2712, 'triumph': 2713, 'cube': 2714, 'plastic': 2715, 'mar': 2716, 'conclud': 2717, 'st': 2718, 'oil': 2719, 'fighter': 2720, 'chuckl': 2721, 'climb': 2722, 'march': 2723, 'weight': 2724, 'rocket': 2725, 'row': 2726, 'vega': 2727, 'bush': 2728, 'own': 2729, 'dump': 2730, 'sensibl': 2731, 'dane': 2732, 'enorm': 2733, 'mst3k': 2734, 'meaning': 2735, 'lust': 2736, 'spare': 2737, 'wherea': 2738, 'kurt': 2739, 'unforgett': 2740, 'thug': 2741, 'boot': 2742, 'luca': 2743, 'stress': 2744, 'arnold': 2745, 'threat': 2746, 'difficulti': 2747, 'butt': 2748, 'dear': 2749, 'adequ': 2750, 'engin': 2751, 'rap': 2752, 'brand': 2753, 'karloff': 2754, 'caricatur': 2755, 'bobbi': 2756, 'fifti': 2757, 'fest': 2758, 'ego': 2759, 'polish': 2760, 'secretari': 2761, 'flynn': 2762, 'homeless': 2763, 'swing': 2764, 'journalist': 2765, 'ralph': 2766, 'arrog': 2767, 'barri': 2768, 'hamlet': 2769, 'elabor': 2770, 'float': 2771, 'simpson': 2772, 'fanci': 2773, 'arrang': 2774, 'resort': 2775, 'induc': 2776, 'grate': 2777, 'unbear': 2778, 'puppet': 2779, 'conspiraci': 2780, 'tool': 2781, 'spike': 2782, 'phillip': 2783, 'choreograph': 2784, 'tribut': 2785, 'guilt': 2786, 'basement': 2787, 'exercis': 2788, 'boll': 2789, 'cruis': 2790, 'pig': 2791, 'muppet': 2792, 'scarecrow': 2793, 'document': 2794, 'stan': 2795, 'tower': 2796, 'fianc': 2797, 'toilet': 2798, 'slip': 2799, 'file': 2800, 'editor': 2801, 'medium': 2802, 'layer': 2803, 'babe': 2804, 'item': 2805, '24': 2806, 'puzzl': 2807, 'ham': 2808, 'ward': 2809, 'korean': 2810, 'minim': 2811, 'spark': 2812, 'librari': 2813, 'assur': 2814, 'transit': 2815, 'glover': 2816, 'doc': 2817, 'slaughter': 2818, 'persona': 2819, 'inexplic': 2820, 'denzel': 2821, 'larger': 2822, 'orient': 2823, 'portion': 2824, 'catherin': 2825, 'philosoph': 2826, 'superfici': 2827, 'territori': 2828, 'jeremi': 2829, 'sneak': 2830, 'curti': 2831, 'shi': 2832, 'owe': 2833, 'ban': 2834, 'financi': 2835, 'dorothi': 2836, 'jet': 2837, 'walken': 2838, 'boredom': 2839, 'wolf': 2840, 'pg': 2841, 'metaphor': 2842, 'profound': 2843, 'ambigu': 2844, 'multi': 2845, 'eleph': 2846, 'backdrop': 2847, 'whale': 2848, 'cusack': 2849, 'hudson': 2850, '2005': 2851, 'rave': 2852, 'elsewher': 2853, 'notion': 2854, 'stiff': 2855, 'implaus': 2856, 'hack': 2857, 'ultra': 2858, 'viru': 2859, 'union': 2860, 'birthday': 2861, 'gadget': 2862, 'pad': 2863, 'afford': 2864, 'newspap': 2865, 'distanc': 2866, 'squar': 2867, 'hawk': 2868, 'eva': 2869, 'urg': 2870, 'deriv': 2871, 'poison': 2872, 'reader': 2873, 'eastwood': 2874, 'lloyd': 2875, 'slight': 2876, 'disc': 2877, 'canada': 2878, 'bibl': 2879, '1st': 2880, 'superhero': 2881, 'cure': 2882, 'button': 2883, 'montag': 2884, 'huh': 2885, 'essenc': 2886, 'spread': 2887, 'charisma': 2888, 'drown': 2889, 'restaur': 2890, 'heston': 2891, 'skit': 2892, 'health': 2893, 'sadist': 2894, 'scoobi': 2895, 'godfath': 2896, 'gradual': 2897, 'estat': 2898, 'fetch': 2899, 'maniac': 2900, 'peak': 2901, 'invest': 2902, 'companion': 2903, 'muslim': 2904, 'dealt': 2905, 'lab': 2906, 'kane': 2907, 'cup': 2908, 'tea': 2909, 'subtleti': 2910, 'alli': 2911, 'servant': 2912, 'ritter': 2913, 'countless': 2914, 'gothic': 2915, 'miik': 2916, 'electr': 2917, 'iii': 2918, 'heroic': 2919, 'charismat': 2920, 'briefli': 2921, 'salli': 2922, 'elect': 2923, 'cole': 2924, 'grandmoth': 2925, 'wannab': 2926, 'ingredi': 2927, 'resourc': 2928, 'tender': 2929, 'bud': 2930, 'neil': 2931, 'nuanc': 2932, 'admittedli': 2933, 'toss': 2934, 'reel': 2935, 'label': 2936, 'mild': 2937, 'pauli': 2938, 'carrey': 2939, 'gate': 2940, 'pit': 2941, 'mafia': 2942, 'shall': 2943, 'punk': 2944, 'stronger': 2945, 'reev': 2946, 'dawson': 2947, 'kubrick': 2948, 'poverti': 2949, 'stood': 2950, 'cardboard': 2951, 'updat': 2952, 'smooth': 2953, 'bakshi': 2954, 'fond': 2955, 'assault': 2956, 'smash': 2957, 'burst': 2958, 'tag': 2959, 'outcom': 2960, 'ian': 2961, 'terri': 2962, 'easier': 2963, 'cox': 2964, 'useless': 2965, 'astair': 2966, '2002': 2967, 'rex': 2968, 'vulner': 2969, 'coincid': 2970, 'samurai': 2971, 'qualifi': 2972, 'exchang': 2973, 'vari': 2974, 'resolv': 2975, 'increasingli': 2976, 'fist': 2977, 'melodramat': 2978, 'sketch': 2979, 'divers': 2980, 'scratch': 2981, 'brillianc': 2982, 'be': 2983, 'blast': 2984, 'insert': 2985, 'suspend': 2986, 'reynold': 2987, 'tame': 2988, 'luckili': 2989, 'conveni': 2990, 'templ': 2991, 'seventi': 2992, 'hamilton': 2993, 'walker': 2994, 'pin': 2995, 'jami': 2996, 'nuclear': 2997, 'strictli': 2998, 'meat': 2999, 'coach': 3000, 'matthew': 3001, 'gotta': 3002, 'soprano': 3003, 'ambiti': 3004, 'fisher': 3005, 'farm': 3006, 'struck': 3007, 'timeless': 3008, 'revers': 3009, 'kudo': 3010, 'worthless': 3011, 'instantli': 3012, 'closet': 3013, 'brosnan': 3014, 'empir': 3015, 'monk': 3016, 'joey': 3017, 'eccentr': 3018, 'butcher': 3019, 'convolut': 3020, 'cave': 3021, 'discoveri': 3022, 'recreat': 3023, 'spooki': 3024, 'ninja': 3025, 'clock': 3026, 'grasp': 3027, 'inconsist': 3028, 'pal': 3029, 'importantli': 3030, 'sidekick': 3031, 'sloppi': 3032, 'norman': 3033, 'gray': 3034, 'declar': 3035, 'mitchel': 3036, 'seller': 3037, 'miracl': 3038, 'evok': 3039, 'cliff': 3040, 'clown': 3041, 'communist': 3042, 'eighti': 3043, 'wipe': 3044, 'partli': 3045, 'fifteen': 3046, 'selfish': 3047, 'bleak': 3048, 'australia': 3049, 'psychiatrist': 3050, 'chew': 3051, 'aforement': 3052, 'seed': 3053, 'cheek': 3054, 'superbl': 3055, 'flawless': 3056, 'stoog': 3057, 'enthusiast': 3058, 'piano': 3059, 'debat': 3060, 'lifestyl': 3061, '45': 3062, 'destin': 3063, 'farc': 3064, 'ho': 3065, 'websit': 3066, 'directori': 3067, 'dire': 3068, 'dash': 3069, 'wrestl': 3070, 'kitchen': 3071, 'regardless': 3072, 'drivel': 3073, 'wick': 3074, 'emili': 3075, 'soviet': 3076, 'pressur': 3077, 'splatter': 3078, 'slice': 3079, 'incompet': 3080, 'anni': 3081, 'bash': 3082, 'akshay': 3083, 'abc': 3084, 'lou': 3085, 'distant': 3086, 'doo': 3087, 'recov': 3088, 'duo': 3089, 'curios': 3090, 'cameron': 3091, 'increas': 3092, 'pleasantli': 3093, 'blob': 3094, 'glow': 3095, 'ken': 3096, 'chapter': 3097, 'beaten': 3098, 'cagney': 3099, 'dave': 3100, 'flower': 3101, 'boil': 3102, 'jar': 3103, 'judi': 3104, 'suppli': 3105, 'prize': 3106, 'helicopt': 3107, 'seduc': 3108, 'cia': 3109, 'artifici': 3110, 'mann': 3111, 'eleg': 3112, 'laurel': 3113, 'goldberg': 3114, 'hop': 3115, 'combat': 3116, 'psychot': 3117, 'craven': 3118, 'splendid': 3119, 'drunken': 3120, 'panic': 3121, 'turner': 3122, 'glenn': 3123, 'ranger': 3124, 'francisco': 3125, 'craig': 3126, 'perri': 3127, 'favour': 3128, 'web': 3129, 'ellen': 3130, 'fx': 3131, 'alexand': 3132, 'gentl': 3133, 'hatr': 3134, 'wizard': 3135, 'shortli': 3136, 'rid': 3137, '20th': 3138, 'gandhi': 3139, 'ruth': 3140, 'flip': 3141, 'plausibl': 3142, 'min': 3143, 'modesti': 3144, 'philosophi': 3145, 'slightest': 3146, 'greek': 3147, 'graduat': 3148, 'falk': 3149, 'tall': 3150, 'jealou': 3151, 'felix': 3152, 'ocean': 3153, 'manhattan': 3154, 'fund': 3155, 'knight': 3156, 'legal': 3157, 'we': 3158, 'harm': 3159, 'lend': 3160, 'futurist': 3161, 'holi': 3162, 'preciou': 3163, 'unpleas': 3164, 'dracula': 3165, 'nod': 3166, 'childish': 3167, 'explicit': 3168, 'reviv': 3169, 'digniti': 3170, 'overdon': 3171, 'ami': 3172, 'scientif': 3173, 'bless': 3174, 'giallo': 3175, 'tank': 3176, 'mock': 3177, 'thread': 3178, 'forbidden': 3179, 'pirat': 3180, 'thick': 3181, 'torment': 3182, 'margaret': 3183, 'unwatch': 3184, 'awe': 3185, 'elderli': 3186, 'fever': 3187, 'repeatedli': 3188, 'nerv': 3189, 'mel': 3190, 'broad': 3191, 'eve': 3192, '2004': 3193, 'yesterday': 3194, 'awaken': 3195, '99': 3196, 'verhoeven': 3197, 'publish': 3198, 'royal': 3199, 'eas': 3200, 'timothi': 3201, 'rivet': 3202, 'roman': 3203, 'ah': 3204, 'romero': 3205, 'politician': 3206, 'automat': 3207, 'lean': 3208, 'absenc': 3209, 'ambit': 3210, 'acclaim': 3211, 'stiller': 3212, 'griffith': 3213, 'custom': 3214, 'kay': 3215, 'uniform': 3216, 'bin': 3217, 'launch': 3218, 'phrase': 3219, 'stinker': 3220, 'termin': 3221, 'antic': 3222, 'bathroom': 3223, 'foul': 3224, 'darker': 3225, 'warren': 3226, 'crook': 3227, 'transport': 3228, 'wallac': 3229, 'homicid': 3230, 'gabriel': 3231, 'pierc': 3232, 'sunshin': 3233, 'purpl': 3234, 'pulp': 3235, 'tomato': 3236, 'packag': 3237, 'kenneth': 3238, 'pray': 3239, 'saint': 3240, '2003': 3241, 'viciou': 3242, 'rambo': 3243, 'revolutionari': 3244, 'eyr': 3245, 'juvenil': 3246, 'ought': 3247, 'choreographi': 3248, 'coloni': 3249, 'brazil': 3250, 'q': 3251, 'sixti': 3252, 'li': 3253, 'marin': 3254, 'prom': 3255, 'horrid': 3256, 'donna': 3257, 'album': 3258, 'awak': 3259, 'evolv': 3260, 'karen': 3261, 'hollow': 3262, 'contrari': 3263, 'twelv': 3264, 'candid': 3265, 'ireland': 3266, 'boast': 3267, 'beatti': 3268, 'stole': 3269, 'nerd': 3270, 'conserv': 3271, 'blade': 3272, 'option': 3273, 'mummi': 3274, 'kapoor': 3275, 'defi': 3276, 'overr': 3277, 'dose': 3278, 'mildr': 3279, 'ramon': 3280, 'confirm': 3281, 'funer': 3282, 'trio': 3283, 'astonish': 3284, 'jazz': 3285, 'global': 3286, 'protest': 3287, 'natali': 3288, 'detract': 3289, 'kirk': 3290, 'flame': 3291, 'collabor': 3292, 'altman': 3293, 'fulci': 3294, 'audio': 3295, 'yellow': 3296, 'shade': 3297, 'mystic': 3298, 'leap': 3299, 'bottl': 3300, 'spit': 3301, 'blake': 3302, 'enterpris': 3303, 'bull': 3304, 'delici': 3305, 'destini': 3306, 'tommi': 3307, 'whip': 3308, 'nicholson': 3309, 'racial': 3310, 'swedish': 3311, 'altogeth': 3312, 'neo': 3313, 'harder': 3314, 'meaningless': 3315, 'staff': 3316, 'visibl': 3317, 'todd': 3318, 'adolesc': 3319, 'bedroom': 3320, 'merci': 3321, 'threw': 3322, 'enchant': 3323, 'vivid': 3324, 'pseudo': 3325, 'popcorn': 3326, 'reunit': 3327, 'fonda': 3328, 'inherit': 3329, 'wire': 3330, 'suspici': 3331, 'befriend': 3332, 'synopsi': 3333, 'moodi': 3334, 'edi': 3335, 'await': 3336, 'jew': 3337, 'ruthless': 3338, 'bust': 3339, 'madonna': 3340, 'lemmon': 3341, 'reserv': 3342, 'uneven': 3343, 'tip': 3344, 'kennedi': 3345, 'leonard': 3346, 'crocodil': 3347, 'fanat': 3348, 'respond': 3349, 'roommat': 3350, 'voight': 3351, 'exhibit': 3352, 'lawrenc': 3353, 'atlanti': 3354, 'decor': 3355, 'bradi': 3356, 'carl': 3357, 'ventur': 3358, 'rural': 3359, 'holli': 3360, 'dimens': 3361, 'unsettl': 3362, 'centr': 3363, 'abysm': 3364, 'clint': 3365, 'voyag': 3366, 'audit': 3367, 'incident': 3368, 'bold': 3369, 'palma': 3370, 'bargain': 3371, '2007': 3372, 'chao': 3373, 'garner': 3374, 'clumsi': 3375, 'lit': 3376, '2nd': 3377, 'daddi': 3378, 'nearbi': 3379, 'cari': 3380, 'cd': 3381, 'elimin': 3382, 'neglect': 3383, 'tiger': 3384, 'troop': 3385, 'hart': 3386, 'echo': 3387, 'versu': 3388, 'humili': 3389, 'imperson': 3390, 'acknowledg': 3391, 'mall': 3392, 'characterist': 3393, 'poetic': 3394, 'trail': 3395, 'ant': 3396, 'wealth': 3397, 'immigr': 3398, 'cuba': 3399, 'timon': 3400, 'domest': 3401, 'pun': 3402, 'jeffrey': 3403, 'paus': 3404, 'mistaken': 3405, 'mickey': 3406, 'prejudic': 3407, 'repuls': 3408, 'saga': 3409, 'homer': 3410, 'celluloid': 3411, 'collaps': 3412, 'marshal': 3413, 'solo': 3414, 'infect': 3415, 'hbo': 3416, 'apolog': 3417, 'cake': 3418, 'milk': 3419, 'sore': 3420, 'undoubtedli': 3421, 'olivi': 3422, '1996': 3423, 'pant': 3424, 'promin': 3425, 'tribe': 3426, 'coat': 3427, 'coffe': 3428, 'interrupt': 3429, 'assembl': 3430, 'harvey': 3431, 'chest': 3432, 'inan': 3433, 'gear': 3434, 'equip': 3435, 'inappropri': 3436, 'leon': 3437, 'ginger': 3438, 'consum': 3439, 'retain': 3440, 'pen': 3441, 'colleagu': 3442, 'vulgar': 3443, 'devast': 3444, 'institut': 3445, 'airplan': 3446, 'polanski': 3447, 'maggi': 3448, 'solut': 3449, 'jenni': 3450, 'embrac': 3451, 'pot': 3452, 'furthermor': 3453, 'highest': 3454, 'humbl': 3455, 'trace': 3456, 'colonel': 3457, 'brooklyn': 3458, 'exot': 3459, 'primari': 3460, 'aveng': 3461, 'florida': 3462, 'instant': 3463, 'godzilla': 3464, 'poke': 3465, 'principl': 3466, '1999': 3467, 'gender': 3468, 'ya': 3469, 'dian': 3470, 'dutch': 3471, 'bowl': 3472, 'strain': 3473, 'outer': 3474, 'sale': 3475, 'seduct': 3476, 'rick': 3477, 'linda': 3478, 'descend': 3479, 'smaller': 3480, 'disabl': 3481, 'cope': 3482, 'illog': 3483, 'wive': 3484, '3rd': 3485, 'blatant': 3486, 'mixtur': 3487, 'dive': 3488, 'vast': 3489, 'inferior': 3490, 'glamor': 3491, 'beneath': 3492, 'gundam': 3493, 'dud': 3494, 'yard': 3495, 'scope': 3496, 'cue': 3497, 'secondli': 3498, 'devoid': 3499, 'lol': 3500, 'rabbit': 3501, 'predecessor': 3502, 'hal': 3503, 'gloriou': 3504, 'primarili': 3505, 'bubbl': 3506, 'disjoint': 3507, 'alfr': 3508, 'alert': 3509, 'casual': 3510, 'invas': 3511, 'arab': 3512, 'shelf': 3513, 'aggress': 3514, 'trademark': 3515, 'april': 3516, 'simplist': 3517, 'myer': 3518, 'museum': 3519, 'countrysid': 3520, 'z': 3521, 'senseless': 3522, 'et': 3523, 'talki': 3524, 'streep': 3525, 'shirley': 3526, 'breed': 3527, 'hideou': 3528, 'domino': 3529, 'pearl': 3530, 'grinch': 3531, 'garbo': 3532, 'acid': 3533, 'stir': 3534, 'experiment': 3535, 'stellar': 3536, 'loyal': 3537, 'disgrac': 3538, 'oz': 3539, 'applaud': 3540, 'robinson': 3541, 'hardcor': 3542, 'illeg': 3543, 'robberi': 3544, 'slide': 3545, 'hopeless': 3546, 'sh': 3547, 'unhappi': 3548, 'boom': 3549, 'rendit': 3550, 'uwe': 3551, 'maci': 3552, 'vanish': 3553, 'mail': 3554, 'khan': 3555, 'obtain': 3556, 'defens': 3557, 'mayor': 3558, 'stack': 3559, 'psychic': 3560, 'dicken': 3561, 'grandfath': 3562, 'span': 3563, 'tempt': 3564, 'hartley': 3565, 'rifl': 3566, 'tenant': 3567, 'amanda': 3568, 'wont': 3569, 'soccer': 3570, 'fri': 3571, 'emphasi': 3572, 'declin': 3573, 'counter': 3574, 'incomprehens': 3575, 'recruit': 3576, 'craze': 3577, 'blew': 3578, 'scroog': 3579, 'topless': 3580, 'berlin': 3581, 'spider': 3582, 'dismiss': 3583, 'diana': 3584, 'ration': 3585, 'shaw': 3586, 'bitch': 3587, 'trashi': 3588, 'shed': 3589, 'parad': 3590, 'woo': 3591, 'faster': 3592, 'goer': 3593, 'revolt': 3594, 'wet': 3595, 'sibl': 3596, 'porno': 3597, 'resurrect': 3598, 'riot': 3599, 'intim': 3600, 'sympath': 3601, 'justin': 3602, 'niro': 3603, 'lumet': 3604, 'ethnic': 3605, 'jonathan': 3606, 'ensur': 3607, 'unreal': 3608, 'steam': 3609, 'immort': 3610, 'partial': 3611, 'nephew': 3612, 'enlighten': 3613, 'farmer': 3614, 'honesti': 3615, 'region': 3616, 'rider': 3617, 'patriot': 3618, 'hesit': 3619, 'hopper': 3620, 'weakest': 3621, 'gap': 3622, '00': 3623, 'wheel': 3624, 'dealer': 3625, 'mario': 3626, 'slick': 3627, 'wendi': 3628, 'commend': 3629, 'feminist': 3630, 'eager': 3631, 'worm': 3632, 'choru': 3633, 'biographi': 3634, 'ballet': 3635, 'lena': 3636, 'andr': 3637, 'safeti': 3638, 'mutant': 3639, 'sappi': 3640, 'repress': 3641, 'util': 3642, 'sandra': 3643, 'blunt': 3644, 'vice': 3645, 'prequel': 3646, 'psychopath': 3647, 'nostalg': 3648, 'similarli': 3649, 'franco': 3650, 'hung': 3651, 'leo': 3652, 'kingdom': 3653, 'skull': 3654, 'victori': 3655, 'confin': 3656, 'composit': 3657, 'properti': 3658, 'wore': 3659, 'charlott': 3660, 'owen': 3661, 'snap': 3662, 'morri': 3663, 'macarthur': 3664, 'rope': 3665, 'thru': 3666, 'bergman': 3667, 'drain': 3668, 'compens': 3669, 'acquir': 3670, 'emperor': 3671, 'rambl': 3672, 'bonu': 3673, 'dalton': 3674, 'despair': 3675, 'whoopi': 3676, 'deed': 3677, 'bow': 3678, 'heartbreak': 3679, 'pattern': 3680, 'nervou': 3681, 'tad': 3682, 'kyle': 3683, 'miseri': 3684, 'dust': 3685, 'farrel': 3686, 'cg': 3687, 'bumbl': 3688, 'drum': 3689, 'snl': 3690, 'campbel': 3691, 'hyde': 3692, 'repli': 3693, 'exit': 3694, 'tail': 3695, 'montana': 3696, '1972': 3697, 'rocki': 3698, 'compass': 3699, 'valuabl': 3700, 'speci': 3701, 'del': 3702, 'latin': 3703, 'strand': 3704, 'recycl': 3705, 'slug': 3706, 'olli': 3707, 'downhil': 3708, 'roth': 3709, 'airport': 3710, 'oppress': 3711, 'gimmick': 3712, 'da': 3713, 'wacki': 3714, 'bleed': 3715, '35': 3716, 'romp': 3717, 'carradin': 3718, 'mistress': 3719, 'radic': 3720, 'chess': 3721, 'rapist': 3722, 'orson': 3723, 'contempl': 3724, 'gal': 3725, 'martian': 3726, 'rotten': 3727, 'pour': 3728, 'percept': 3729, 'tonight': 3730, 'preach': 3731, 'tooth': 3732, 'belt': 3733, 'mislead': 3734, 'attorney': 3735, 'pervert': 3736, '1983': 3737, 'edgar': 3738, 'banal': 3739, 'paltrow': 3740, 'arguabl': 3741, 'arc': 3742, 'stilt': 3743, 'programm': 3744, 'heal': 3745, 'pursuit': 3746, 'champion': 3747, 'melodi': 3748, 'taught': 3749, 'slash': 3750, 'tackl': 3751, 'dazzl': 3752, 'shelley': 3753, 'unpredict': 3754, 'pervers': 3755, 'vocal': 3756, 'poem': 3757, 'chicken': 3758, 'cleverli': 3759, 'tiresom': 3760, 'employe': 3761, 'mesmer': 3762, 'graham': 3763, 'rubi': 3764, 'conneri': 3765, 'marti': 3766, 'uplift': 3767, 'bela': 3768, 'sensat': 3769, 'plight': 3770, 'closest': 3771, 'virginia': 3772, 'gambl': 3773, 'orang': 3774, 'vengeanc': 3775, 'duval': 3776, 'franki': 3777, 'maid': 3778, 'dixon': 3779, 'raymond': 3780, 'passeng': 3781, 'habit': 3782, 'climact': 3783, 'bay': 3784, 'engross': 3785, 'numb': 3786, 'secretli': 3787, 'whine': 3788, 'convincingli': 3789, 'swallow': 3790, 'paranoia': 3791, '1968': 3792, 'lundgren': 3793, 'iran': 3794, 'giggl': 3795, 'extens': 3796, 'tube': 3797, 'suffic': 3798, 'mute': 3799, 'volum': 3800, 'quarter': 3801, 'outing': 3802, 'crystal': 3803, 'profan': 3804, 'gerard': 3805, 'abraham': 3806, 'scottish': 3807, 'calm': 3808, 'monologu': 3809, 'amitabh': 3810, 'clone': 3811, 'inject': 3812, 'yawn': 3813, 'sirk': 3814, 'pokemon': 3815, 'trend': 3816, 'poetri': 3817, 'ethan': 3818, 'surpass': 3819, 'underst': 3820, 'profess': 3821, 'dispos': 3822, 'linger': 3823, 'abort': 3824, 'junior': 3825, 'chicago': 3826, 'bend': 3827, 'austen': 3828, 'lowest': 3829, 'backward': 3830, 'nichola': 3831, 'meander': 3832, 'im': 3833, 'spock': 3834, 'fed': 3835, 'expand': 3836, 'taxi': 3837, 'earl': 3838, 'richardson': 3839, 'plod': 3840, 'grotesqu': 3841, 'septemb': 3842, 'franci': 3843, 'frankenstein': 3844, 'der': 3845, 'sue': 3846, 'spoke': 3847, 'simplic': 3848, 'muddl': 3849, 'dysfunct': 3850, 'tourist': 3851, 'hum': 3852, 'nostalgia': 3853, 'rant': 3854, 'descent': 3855, 'household': 3856, 'catchi': 3857, 'greedi': 3858, 'compliment': 3859, 'waitress': 3860, 'cannon': 3861, 'instrument': 3862, 'mundan': 3863, 'eugen': 3864, 'myth': 3865, 'lure': 3866, 'econom': 3867, 'rubber': 3868, 'stallon': 3869, 'literatur': 3870, 'stale': 3871, 'occupi': 3872, 'louis': 3873, 'mortal': 3874, 'deaf': 3875, 'coast': 3876, 'irrelev': 3877, 'alongsid': 3878, 'bacal': 3879, 'dictat': 3880, 'randi': 3881, 'phantom': 3882, 'recognis': 3883, 'lang': 3884, 'map': 3885, 'recognit': 3886, 'insur': 3887, 'furi': 3888, 'equival': 3889, 'dement': 3890, 'molli': 3891, 'eaten': 3892, 'flee': 3893, 'duck': 3894, 'hello': 3895, 'damon': 3896, 'sissi': 3897, 'cent': 3898, 'june': 3899, 'phoni': 3900, 'firstli': 3901, 'mankind': 3902, 'crucial': 3903, 'carel': 3904, 'omen': 3905, 'onlin': 3906, 'damm': 3907, 'distinguish': 3908, 'newli': 3909, 'labor': 3910, 'bump': 3911, 'buffalo': 3912, 'reign': 3913, 'rude': 3914, 'lengthi': 3915, 'biko': 3916, 'freez': 3917, 'twilight': 3918, '1973': 3919, 'drake': 3920, 'rooney': 3921, 'likewis': 3922, 'bike': 3923, 'blackmail': 3924, 'heel': 3925, 'wisdom': 3926, 'loyalti': 3927, 'daisi': 3928, 'dreari': 3929, 'ashley': 3930, 'cyborg': 3931, 'grayson': 3932, 'antwon': 3933, 'interior': 3934, 'attribut': 3935, 'analysi': 3936, 'ridden': 3937, 'nineti': 3938, 'approv': 3939, 'baddi': 3940, 'startl': 3941, 'prey': 3942, 'sailor': 3943, 'tunnel': 3944, 'provoc': 3945, 'keith': 3946, 'worn': 3947, 'emphas': 3948, 'exposur': 3949, 'unorigin': 3950, 'incorpor': 3951, 'vein': 3952, 'butler': 3953, 'barrymor': 3954, 'basketbal': 3955, 'pink': 3956, 'boxer': 3957, 'proce': 3958, 'chronicl': 3959, 'inher': 3960, 'millionair': 3961, 'elm': 3962, 'meyer': 3963, 'underli': 3964, 'drift': 3965, 'condemn': 3966, 'julian': 3967, 'carla': 3968, 'robbin': 3969, 'meg': 3970, 'indiffer': 3971, 'undeni': 3972, 'walsh': 3973, 'simmon': 3974, 'belushi': 3975, 'predat': 3976, 'barrel': 3977, 'degrad': 3978, 'stalker': 3979, 'unrel': 3980, 'hypnot': 3981, 'mighti': 3982, 'othello': 3983, 'bunni': 3984, 'er': 3985, 'fleet': 3986, 'improvis': 3987, 'nicol': 3988, 'substitut': 3989, 'mormon': 3990, 'disord': 3991, 'warmth': 3992, 'unawar': 3993, 'firm': 3994, 'watson': 3995, 'reid': 3996, 'greed': 3997, 'dolph': 3998, 'priceless': 3999, 'exquisit': 4000, 'alarm': 4001, 'lampoon': 4002, 'rukh': 4003, 'vital': 4004, 'mtv': 4005, 'hay': 4006, 'shove': 4007, 'enthusiasm': 4008, 'nyc': 4009, 'palac': 4010, 'roof': 4011, 'edgi': 4012, 'errol': 4013, '3d': 4014, 'agenda': 4015, 'marion': 4016, 'novak': 4017, 'alison': 4018, 'crown': 4019, 'unleash': 4020, 'pamela': 4021, 'minimum': 4022, 'gestur': 4023, 'eastern': 4024, 'preserv': 4025, 'sergeant': 4026, '1933': 4027, 'nun': 4028, 'simultan': 4029, 'glanc': 4030, 'peril': 4031, 'profit': 4032, 'what': 4033, 'randomli': 4034, 'drip': 4035, 'testament': 4036, 'championship': 4037, 'session': 4038, 'campaign': 4039, 'coup': 4040, 'showdown': 4041, 'distort': 4042, 'iraq': 4043, 'peck': 4044, 'beatl': 4045, '13th': 4046, 'israel': 4047, 'orlean': 4048, 'zizek': 4049, 'spain': 4050, 'petti': 4051, 'thompson': 4052, 'angela': 4053, 'ponder': 4054, 'cassidi': 4055, 'valentin': 4056, 'cooki': 4057, 'crow': 4058, 'mon': 4059, 'stroke': 4060, 'restrain': 4061, 'crawl': 4062, 'represent': 4063, 'scotland': 4064, 'travesti': 4065, 'realm': 4066, 'climat': 4067, 'stake': 4068, 'han': 4069, 'sabrina': 4070, 'contradict': 4071, 'regist': 4072, 'perpetu': 4073, 'exposit': 4074, 'brenda': 4075, 'valley': 4076, 'bro': 4077, 'gentleman': 4078, 'unimagin': 4079, 'miyazaki': 4080, 'quinn': 4081, 'jan': 4082, '1984': 4083, 'reson': 4084, 'calib': 4085, 'buster': 4086, 'cream': 4087, 'wig': 4088, 'shootout': 4089, 'fido': 4090, 'kurosawa': 4091, 'empathi': 4092, 'rout': 4093, 'din': 4094, 'cloud': 4095, 'josh': 4096, 'demis': 4097, 'delic': 4098, 'dana': 4099, 'warrant': 4100, 'greg': 4101, 'tacki': 4102, 'absent': 4103, 'sucker': 4104, 'shaki': 4105, 'mclaglen': 4106, 'painter': 4107, 'ustinov': 4108, 'femm': 4109, 'wax': 4110, 'baldwin': 4111, 'crawford': 4112, 'derang': 4113, 'passabl': 4114, 'pretens': 4115, 'shoddi': 4116, 'pole': 4117, '1997': 4118, 'geek': 4119, 'unsatisfi': 4120, 'stargat': 4121, 'compromis': 4122, 'abomin': 4123, 'monoton': 4124, 'meryl': 4125, 'censor': 4126, 'distress': 4127, 'traumat': 4128, 'soderbergh': 4129, 'perceiv': 4130, 'darren': 4131, 'spacey': 4132, 'businessman': 4133, '1987': 4134, 'sammi': 4135, 'unseen': 4136, 'ross': 4137, 'fuller': 4138, 'jewel': 4139, 'unravel': 4140, 'valid': 4141, 'exclus': 4142, 'sid': 4143, 'seal': 4144, 'reluct': 4145, 'norm': 4146, 'verbal': 4147, 'dee': 4148, 'click': 4149, 'uncov': 4150, 'wholli': 4151, 'deniro': 4152, 'furiou': 4153, 'fenc': 4154, 'tarantino': 4155, 'judgment': 4156, 'deceas': 4157, 'correctli': 4158, 'clash': 4159, 'nathan': 4160, 'fog': 4161, 'primit': 4162, 'accuraci': 4163, 'tech': 4164, 'polici': 4165, 'expedit': 4166, 'austin': 4167, 'kumar': 4168, '1993': 4169, 'anchor': 4170, 'antonioni': 4171, 'sunni': 4172, 'pocket': 4173, 'sand': 4174, 'trait': 4175, 'nicola': 4176, '1995': 4177, 'fought': 4178, 'temper': 4179, 'seldom': 4180, 'behold': 4181, 'patienc': 4182, 'malon': 4183, 'murray': 4184, 'conduct': 4185, 'darn': 4186, 'sustain': 4187, 'mode': 4188, 'dreck': 4189, 'alec': 4190, 'ritual': 4191, 'clerk': 4192, '2008': 4193, 'tax': 4194, 'wang': 4195, 'crippl': 4196, 'fabric': 4197, 'sheet': 4198, 'shanghai': 4199, 'roller': 4200, 'wretch': 4201, 'joel': 4202, 'unfair': 4203, 'logan': 4204, 'slam': 4205, 'fart': 4206, 'enforc': 4207, 'bake': 4208, 'hallucin': 4209, '1971': 4210, '3000': 4211, 'vanc': 4212, 'debt': 4213, 'preposter': 4214, 'divid': 4215, 'penni': 4216, 'legaci': 4217, 'runner': 4218, 'fundament': 4219, 'stuart': 4220, 'despis': 4221, 'phil': 4222, 'pete': 4223, 'soup': 4224, 'scriptwrit': 4225, 'shell': 4226, 'grief': 4227, 'guitar': 4228, 'tactic': 4229, 'schedul': 4230, 'clau': 4231, 'rita': 4232, 'squad': 4233, 'technicolor': 4234, 'critiqu': 4235, 'stark': 4236, 'isabel': 4237, 'outlin': 4238, 'sweep': 4239, 'conscious': 4240, 'helpless': 4241, 'preston': 4242, 'robber': 4243, 'bias': 4244, 'exhaust': 4245, 'canyon': 4246, 'bridget': 4247, 'delv': 4248, 'restrict': 4249, 'propos': 4250, 'alley': 4251, 'sniper': 4252, 'liberti': 4253, 'unexpectedli': 4254, 'jacket': 4255, 'passag': 4256, 'marc': 4257, 'rehash': 4258, 'agenc': 4259, 'sugar': 4260, 'flair': 4261, 'boyl': 4262, 'vomit': 4263, 'cigarett': 4264, 'consciou': 4265, 'lacklust': 4266, 'gregori': 4267, 'kansa': 4268, 'sentinel': 4269, 'implic': 4270, 'invad': 4271, 'connor': 4272, 'alicia': 4273, 'drove': 4274, 'bloom': 4275, 'rear': 4276, 'jodi': 4277, 'downey': 4278, 'newman': 4279, 'russia': 4280, 'culmin': 4281, 'inabl': 4282, 'palanc': 4283, 'rampag': 4284, 'behaviour': 4285, 'horn': 4286, 'bacon': 4287, 'tendenc': 4288, '22': 4289, 'feat': 4290, 'ladder': 4291, 'tripe': 4292, 'awhil': 4293, 'foxx': 4294, 'cap': 4295, 'karl': 4296, 'delet': 4297, 'mccoy': 4298, 'pale': 4299, 'chainsaw': 4300, 'sharon': 4301, '1936': 4302, 'aesthet': 4303, 'rehears': 4304, 'improb': 4305, 'lush': 4306, 'asylum': 4307, 'rod': 4308, 'arrow': 4309, 'wrench': 4310, 'yeti': 4311, 'vet': 4312, 'kolchak': 4313, 'underneath': 4314, 'conscienc': 4315, 'fright': 4316, 'financ': 4317, 'spice': 4318, 'prank': 4319, 'rhythm': 4320, 'visitor': 4321, '1988': 4322, 'aristocrat': 4323, 'globe': 4324, '1920': 4325, 'filler': 4326, 'hulk': 4327, 'elit': 4328, 'suffici': 4329, '1978': 4330, 'hungri': 4331, 'el': 4332, 'amazon': 4333, 'lurk': 4334, 'wagner': 4335, 'rumor': 4336, 'tasteless': 4337, 'basing': 4338, 'paradis': 4339, 'weav': 4340, 'sung': 4341, 'newcom': 4342, '19th': 4343, 'shortcom': 4344, 'thunderbird': 4345, 'scoop': 4346, 'hackney': 4347, 'coaster': 4348, 'tomorrow': 4349, 'stream': 4350, 'loneli': 4351, 'suspicion': 4352, 'minu': 4353, 'paramount': 4354, 'wildli': 4355, 'rub': 4356, 'straightforward': 4357, 'iv': 4358, 'quietli': 4359, 'ingeni': 4360, 'posey': 4361, '1939': 4362, 'bread': 4363, 'impos': 4364, 'brit': 4365, 'recogniz': 4366, 'lectur': 4367, 'literari': 4368, 'penn': 4369, 'dirt': 4370, 'choppi': 4371, 'grudg': 4372, 'counterpart': 4373, 'smell': 4374, 'springer': 4375, 'atroc': 4376, 'worship': 4377, 'hopkin': 4378, 'wwe': 4379, 'couch': 4380, 'tierney': 4381, 'naughti': 4382, '75': 4383, 'curli': 4384, 'beverli': 4385, 'chavez': 4386, 'standout': 4387, 'cancer': 4388, 'minist': 4389, '1989': 4390, 'teas': 4391, 'heist': 4392, 'immers': 4393, 'en': 4394, 'chamberlain': 4395, 'inmat': 4396, 'secondari': 4397, 'abrupt': 4398, 'ram': 4399, 'paxton': 4400, 'leigh': 4401, 'entranc': 4402, 'misguid': 4403, 'entitl': 4404, 'missil': 4405, 'enthral': 4406, 'duel': 4407, 'sublim': 4408, 'laurenc': 4409, 'heartfelt': 4410, 'watcher': 4411, 'nolan': 4412, 'ace': 4413, 'attenborough': 4414, 'convert': 4415, 'net': 4416, 'yearn': 4417, 'injuri': 4418, 'nemesi': 4419, 'skeptic': 4420, 'bernard': 4421, 'variat': 4422, 'ratso': 4423, 'sassi': 4424, 'policeman': 4425, '1986': 4426, 'moreov': 4427, 'morbid': 4428, 'lindsay': 4429, 'quaid': 4430, 'cattl': 4431, 'geni': 4432, 'clan': 4433, 'esther': 4434, 'transcend': 4435, 'enabl': 4436, 'diari': 4437, 'steadi': 4438, 'hopelessli': 4439, 'mytholog': 4440, 'vader': 4441, 'grin': 4442, 'out': 4443, 'spiral': 4444, 'cruelti': 4445, 'facil': 4446, 'buzz': 4447, 'carlito': 4448, 'moder': 4449, 'artsi': 4450, 'egg': 4451, 'kitti': 4452, 'dont': 4453, 'tyler': 4454, 'unexplain': 4455, 'youngest': 4456, 'characteris': 4457, 'graini': 4458, 'uncut': 4459, '1979': 4460, 'hk': 4461, 'setup': 4462, 'brood': 4463, 'rosemari': 4464, 'bean': 4465, 'puppi': 4466, 'bye': 4467, 'poe': 4468, 'obstacl': 4469, 'kidman': 4470, 'reliabl': 4471, 'oblig': 4472, 'niec': 4473, 'acquaint': 4474, 'spontan': 4475, 'bounc': 4476, 'bronson': 4477, 'heap': 4478, 'clueless': 4479, 'kline': 4480, 'weather': 4481, 'bewar': 4482, 'brendan': 4483, 'decept': 4484, 'fuel': 4485, 'exterior': 4486, 'sweat': 4487, 'narrow': 4488, 'disastr': 4489, 'underworld': 4490, '1969': 4491, 'despic': 4492, 'preming': 4493, 'christin': 4494, 'patricia': 4495, 'baffl': 4496, 'martha': 4497, 'gina': 4498, 'hain': 4499, 'athlet': 4500, 'gillian': 4501, 'hammi': 4502, 'effici': 4503, 'viewpoint': 4504, 'uh': 4505, 'angst': 4506, 'headach': 4507, 'housewif': 4508, 'loath': 4509, 'shatter': 4510, 'biker': 4511, 'preachi': 4512, 'goof': 4513, 'mermaid': 4514, 'trigger': 4515, 'taboo': 4516, 'outlaw': 4517, 'insipid': 4518, 'dilemma': 4519, 'injur': 4520, 'renaiss': 4521, 'scar': 4522, 'rome': 4523, 'sleepwalk': 4524, 'astound': 4525, 'tick': 4526, 'suprem': 4527, 'virtu': 4528, 'analyz': 4529, 'circu': 4530, '19': 4531, '73': 4532, 'enlist': 4533, 'sooner': 4534, 'mayhem': 4535, 'dandi': 4536, 'harmless': 4537, 'candl': 4538, 'loi': 4539, 'lester': 4540, 'hepburn': 4541, 'fontain': 4542, 'macho': 4543, 'glorifi': 4544, 'salt': 4545, 'ebert': 4546, 'slimi': 4547, 'boston': 4548, 'dish': 4549, 'stimul': 4550, 'steer': 4551, 'immatur': 4552, 'oldest': 4553, 'overlong': 4554, 'spade': 4555, 'camcord': 4556, 'phenomenon': 4557, 'hooker': 4558, 'amor': 4559, 'idol': 4560, 'redund': 4561, 'stair': 4562, 'hostag': 4563, 'intric': 4564, 'surgeri': 4565, 'bent': 4566, 'dismal': 4567, 'scorses': 4568, 'zoom': 4569, 'guin': 4570, 'hokey': 4571, 'foolish': 4572, 'gere': 4573, 'claustrophob': 4574, 'cassavet': 4575, 'tripl': 4576, 'fluff': 4577, 'filth': 4578, 'corbett': 4579, 'ariel': 4580, 'whore': 4581, 'contempt': 4582, 'sox': 4583, 'astronaut': 4584, '1981': 4585, 'keen': 4586, 'spree': 4587, 'remad': 4588, 'dwarf': 4589, 'mutual': 4590, 'muscl': 4591, 'zane': 4592, 'mount': 4593, 'fascist': 4594, 'down': 4595, 'frantic': 4596, 'alvin': 4597, 'flag': 4598, 'joker': 4599, 'assert': 4600, 'corman': 4601, 'strongest': 4602, 'flashi': 4603, 'shred': 4604, 'shield': 4605, 'proport': 4606, '1976': 4607, 'cush': 4608, 'schlock': 4609, 'messi': 4610, 'obligatori': 4611, 'cow': 4612, 'conquer': 4613, 'transplant': 4614, 'gabl': 4615, 'widescreen': 4616, 'antagonist': 4617, 'perman': 4618, 'preced': 4619, 'harold': 4620, 'spinal': 4621, 'faint': 4622, 'rhyme': 4623, 'trivia': 4624, 'flirt': 4625, 'radiat': 4626, 'beard': 4627, 'naschi': 4628, 'margin': 4629, 'nolt': 4630, 'gasp': 4631, 'cohen': 4632, 'bachelor': 4633, 'off': 4634, 'vaniti': 4635, 'neurot': 4636, 'repris': 4637, '1945': 4638, 'instruct': 4639, 'resum': 4640, 'www': 4641, 'mol': 4642, 'departur': 4643, 'inflict': 4644, '28': 4645, 'divin': 4646, 'fishburn': 4647, 'archiv': 4648, 'mobil': 4649, 'info': 4650, 'wield': 4651, 'triangl': 4652, 'persuad': 4653, 'hara': 4654, 'carey': 4655, 'flock': 4656, 'ritchi': 4657, 'sensual': 4658, 'bitten': 4659, 'claud': 4660, '95': 4661, 'barn': 4662, 'scandal': 4663, 'aborigin': 4664, 'discern': 4665, 'danish': 4666, 'someday': 4667, 'brush': 4668, 'interestingli': 4669, 'strive': 4670, 'deer': 4671, 'raj': 4672, 'boob': 4673, 'clad': 4674, 'ish': 4675, 'submit': 4676, 'proclaim': 4677, 'dim': 4678, 'fragil': 4679, 'europa': 4680, 'cher': 4681, 'neill': 4682, 'luka': 4683, 'rot': 4684, 'frontier': 4685, 'hapless': 4686, 'traffic': 4687, 'melissa': 4688, 'mobster': 4689, 'anton': 4690, 'undermin': 4691, 'artwork': 4692, 'pacif': 4693, 'heartwarm': 4694, 'loretta': 4695, 'dame': 4696, 'axe': 4697, 'helm': 4698, 'pixar': 4699, 'harrison': 4700, 'kathryn': 4701, 'prophet': 4702, 'cycl': 4703, 'cb': 4704, 'recit': 4705, 'vibrant': 4706, 'senior': 4707, 'parson': 4708, 'bate': 4709, 'earnest': 4710, 'casino': 4711, 'carlo': 4712, 'miracul': 4713, 'banter': 4714, 'cliffhang': 4715, 'timberlak': 4716, 'hug': 4717, 'hilar': 4718, 'dylan': 4719, 'biblic': 4720, 'jade': 4721, 'colin': 4722, 'pickford': 4723, 'wendigo': 4724, 'aris': 4725, 'blatantli': 4726, 'mathieu': 4727, 'choke': 4728, 'token': 4729, 'bikini': 4730, 'estrang': 4731, 'lui': 4732, 'mason': 4733, 'holocaust': 4734, 'marlon': 4735, 'legitim': 4736, 'lucil': 4737, 'redneck': 4738, 'http': 4739, 'akin': 4740, 'venom': 4741, 'foil': 4742, 'breakfast': 4743, 'antholog': 4744, 'isra': 4745, 'northern': 4746, 'sicken': 4747, 'eli': 4748, 'nope': 4749, 'alexandr': 4750, 'vanessa': 4751, 'wardrob': 4752, 'cerebr': 4753, 'flavor': 4754, 'static': 4755, 'milo': 4756, 'feast': 4757, 'razor': 4758, 'orphan': 4759, 'toronto': 4760, 'articl': 4761, 'shepherd': 4762, 'jo': 4763, 'vile': 4764, 'illus': 4765, 'electron': 4766, 'bondag': 4767, 'trier': 4768, 'pc': 4769, 'uma': 4770, 'jordan': 4771, 'seedi': 4772, 'misfortun': 4773, 'winchest': 4774, 'rooki': 4775, 'turd': 4776, 'clinic': 4777, 'boyer': 4778, 'nightclub': 4779, 'psych': 4780, 'tack': 4781, 'cartoonish': 4782, 'ideolog': 4783, 'affleck': 4784, 'shorter': 4785, 'smack': 4786, 'feminin': 4787, 'charlton': 4788, 'wrestler': 4789, 'linear': 4790, 'huston': 4791, 'ceremoni': 4792, 'deem': 4793, 'highway': 4794, 'outdat': 4795, 'comprehend': 4796, 'glare': 4797, 'disregard': 4798, 'knightley': 4799, 'audrey': 4800, 'magician': 4801, 'leather': 4802, 'howl': 4803, 'frog': 4804, 'fifth': 4805, 'retriev': 4806, 'abund': 4807, 'styliz': 4808, 'oppon': 4809, 'gilbert': 4810, 'peer': 4811, 'gunga': 4812, 'dudley': 4813, 'swept': 4814, 'deliver': 4815, 'lighter': 4816, 'senat': 4817, 'phenomen': 4818, 'breakdown': 4819, 'newer': 4820, 'einstein': 4821, 'potter': 4822, 'sleaz': 4823, 'chip': 4824, 'compris': 4825, 'btw': 4826, 'cemeteri': 4827, 'greet': 4828, '4th': 4829, 'durat': 4830, 'whack': 4831, 'bogu': 4832, 'client': 4833, 'moe': 4834, 'conrad': 4835, 'braveheart': 4836, 'bastard': 4837, 'evolut': 4838, 'collector': 4839, 'lifeless': 4840, 'monument': 4841, 'spawn': 4842, '1994': 4843, 'energet': 4844, 'boo': 4845, 'tara': 4846, 'cuban': 4847, 'plate': 4848, 'summar': 4849, 'corn': 4850, '1991': 4851, 'toe': 4852, 'uniformli': 4853, 'lavish': 4854, 'goldsworthi': 4855, 'snatch': 4856, 'spine': 4857, 'mitch': 4858, 'salman': 4859, 'fluid': 4860, 'creek': 4861, 'ol': 4862, 'belli': 4863, 'inaccuraci': 4864, 'bulk': 4865, 'mcqueen': 4866, 'luxuri': 4867, 'embark': 4868, 'pronounc': 4869, 'cecil': 4870, 'outright': 4871, '1977': 4872, 'firmli': 4873, 'undertak': 4874, 'spectacl': 4875, 'signal': 4876, 'liu': 4877, 'gilliam': 4878, 'wtf': 4879, 'jare': 4880, 'appl': 4881, 'eleven': 4882, 'trauma': 4883, 'clara': 4884, 'historian': 4885, 'undead': 4886, 'healthi': 4887, 'kent': 4888, 'jule': 4889, 'alleg': 4890, 'judd': 4891, 'occup': 4892, 'lex': 4893, 'jam': 4894, 'sorrow': 4895, 'randolph': 4896, 'neatli': 4897, 'capot': 4898, 'replay': 4899, '1974': 4900, 'ie': 4901, 'nina': 4902, 'jedi': 4903, 'armstrong': 4904, 'evelyn': 4905, 'bori': 4906, 'kazan': 4907, 'constitut': 4908, 'sacrif': 4909, 'unsuspect': 4910, 'abound': 4911, 'kiddi': 4912, 'inaccur': 4913, 'forgiven': 4914, 'curtain': 4915, 'porter': 4916, 'comprehens': 4917, 'lauren': 4918, 'knee': 4919, 'cape': 4920, 'paula': 4921, 'unattract': 4922, 'bait': 4923, 'pioneer': 4924, 'congratul': 4925, 'aussi': 4926, 'subtli': 4927, 'bsg': 4928, 'meal': 4929, 'id': 4930, 'spray': 4931, 'groan': 4932, 'propheci': 4933, 'roar': 4934, 'antonio': 4935, 'mum': 4936, 'miniseri': 4937, 'rosario': 4938, 'miami': 4939, 'pepper': 4940, 'vain': 4941, 'walt': 4942, 'vignett': 4943, 'carmen': 4944, 'palm': 4945, 'inclus': 4946, 'relentless': 4947, 'genet': 4948, 'poker': 4949, 'goldblum': 4950, 'sidewalk': 4951, 'basket': 4952, 'lanc': 4953, 'tokyo': 4954, 'conan': 4955, 'comb': 4956, 'blur': 4957, 'truman': 4958, '1985': 4959, 'ash': 4960, 'fruit': 4961, 'galaxi': 4962, 'decapit': 4963, '21st': 4964, 'assort': 4965, 'frontal': 4966, 'motorcycl': 4967, 'reincarn': 4968, 'bravo': 4969, 'macabr': 4970, 'sophi': 4971, 'ingrid': 4972, 'hackman': 4973, 'vastli': 4974, 'cypher': 4975, 'orchestr': 4976, 'spill': 4977, 'scarfac': 4978, 'profil': 4979, 'omin': 4980, 'scariest': 4981, 'asset': 4982, 'rapidli': 4983, 'monti': 4984, 'epitom': 4985, 'optimist': 4986, 'turtl': 4987, 'playboy': 4988, 'handicap': 4989, 'modest': 4990, 'sparkl': 4991, 'verg': 4992, 'dubiou': 4993, 'masterson': 4994, 'weaker': 4995, 'bach': 4996, 'mice': 4997, 'substanti': 4998, 'incorrect': 4999}\n"
     ]
    }
   ],
   "source": [
    "print(word_dict)"
   ]
  },
  {
   "cell_type": "code",
   "execution_count": 83,
   "metadata": {
    "scrolled": true
   },
   "outputs": [
    {
     "name": "stdout",
     "output_type": "stream",
     "text": [
      "movi\n",
      "film\n",
      "one\n",
      "like\n",
      "time\n"
     ]
    }
   ],
   "source": [
    "# Determine the five most frequently appearing words in the training set.\n",
    "count = 0\n",
    "for word in word_dict:\n",
    "    print(word)\n",
    "    if count < 4:\n",
    "        count += 1\n",
    "    else:\n",
    "        break\n",
    "    "
   ]
  },
  {
   "cell_type": "markdown",
   "metadata": {},
   "source": [
    "### Save `word_dict`\n",
    "\n",
    "Later on when we construct an endpoint which processes a submitted review we will need to make use of the `word_dict` which we have created. As such, we will save it to a file now for future use."
   ]
  },
  {
   "cell_type": "code",
   "execution_count": 84,
   "metadata": {},
   "outputs": [],
   "source": [
    "data_dir = '../data/pytorch' # The folder we will use for storing data\n",
    "if not os.path.exists(data_dir): # Make sure that the folder exists\n",
    "    os.makedirs(data_dir)"
   ]
  },
  {
   "cell_type": "code",
   "execution_count": 85,
   "metadata": {},
   "outputs": [],
   "source": [
    "with open(os.path.join(data_dir, 'word_dict.pkl'), \"wb\") as f:\n",
    "    pickle.dump(word_dict, f)"
   ]
  },
  {
   "cell_type": "markdown",
   "metadata": {},
   "source": [
    "### Transform the reviews\n",
    "\n",
    "Now that we have our word dictionary which allows us to transform the words appearing in the reviews into integers, it is time to make use of it and convert our reviews to their integer sequence representation, making sure to pad or truncate to a fixed length, which in our case is `500`."
   ]
  },
  {
   "cell_type": "code",
   "execution_count": 86,
   "metadata": {},
   "outputs": [],
   "source": [
    "def convert_and_pad(word_dict, sentence, pad=500):\n",
    "    NOWORD = 0 # We will use 0 to represent the 'no word' category\n",
    "    INFREQ = 1 # and we use 1 to represent the infrequent words, i.e., words not appearing in word_dict\n",
    "    \n",
    "    working_sentence = [NOWORD] * pad\n",
    "    \n",
    "    for word_index, word in enumerate(sentence[:pad]):\n",
    "        if word in word_dict:\n",
    "            working_sentence[word_index] = word_dict[word]\n",
    "        else:\n",
    "            working_sentence[word_index] = INFREQ\n",
    "            \n",
    "    return working_sentence, min(len(sentence), pad)\n",
    "\n",
    "def convert_and_pad_data(word_dict, data, pad=500):\n",
    "    result = []\n",
    "    lengths = []\n",
    "    \n",
    "    for sentence in data:\n",
    "        converted, leng = convert_and_pad(word_dict, sentence, pad)\n",
    "        result.append(converted)\n",
    "        lengths.append(leng)\n",
    "        \n",
    "    return np.array(result), np.array(lengths)"
   ]
  },
  {
   "cell_type": "code",
   "execution_count": 87,
   "metadata": {},
   "outputs": [],
   "source": [
    "train_X, train_X_len = convert_and_pad_data(word_dict, train_X)\n",
    "test_X, test_X_len = convert_and_pad_data(word_dict, test_X)"
   ]
  },
  {
   "cell_type": "markdown",
   "metadata": {},
   "source": [
    "As a quick check to make sure that things are working as intended, check to see what one of the reviews in the training set looks like after having been processeed. "
   ]
  },
  {
   "cell_type": "code",
   "execution_count": 90,
   "metadata": {
    "scrolled": true
   },
   "outputs": [
    {
     "name": "stdout",
     "output_type": "stream",
     "text": [
      "Total number of processed reviews in the training dataset = 500\n",
      "\n",
      "Processed review info of one element in the training dataset:\n",
      "\n",
      "[ 217  304  682   32 1022  905 3471  605 4971    1   76  477    2    1\n",
      "   32  151 3056  127   30 1076    1 1200    1  764   31 1944    2    2\n",
      "  734   21 1584  918 3443  556   18 3914  961   27   20  294  654    1\n",
      "    2  857   12    2  224    6  224  200 1022  945    1  597   58  316\n",
      "  166    0    0    0    0    0    0    0    0    0    0    0    0    0\n",
      "    0    0    0    0    0    0    0    0    0    0    0    0    0    0\n",
      "    0    0    0    0    0    0    0    0    0    0    0    0    0    0\n",
      "    0    0    0    0    0    0    0    0    0    0    0    0    0    0\n",
      "    0    0    0    0    0    0    0    0    0    0    0    0    0    0\n",
      "    0    0    0    0    0    0    0    0    0    0    0    0    0    0\n",
      "    0    0    0    0    0    0    0    0    0    0    0    0    0    0\n",
      "    0    0    0    0    0    0    0    0    0    0    0    0    0    0\n",
      "    0    0    0    0    0    0    0    0    0    0    0    0    0    0\n",
      "    0    0    0    0    0    0    0    0    0    0    0    0    0    0\n",
      "    0    0    0    0    0    0    0    0    0    0    0    0    0    0\n",
      "    0    0    0    0    0    0    0    0    0    0    0    0    0    0\n",
      "    0    0    0    0    0    0    0    0    0    0    0    0    0    0\n",
      "    0    0    0    0    0    0    0    0    0    0    0    0    0    0\n",
      "    0    0    0    0    0    0    0    0    0    0    0    0    0    0\n",
      "    0    0    0    0    0    0    0    0    0    0    0    0    0    0\n",
      "    0    0    0    0    0    0    0    0    0    0    0    0    0    0\n",
      "    0    0    0    0    0    0    0    0    0    0    0    0    0    0\n",
      "    0    0    0    0    0    0    0    0    0    0    0    0    0    0\n",
      "    0    0    0    0    0    0    0    0    0    0    0    0    0    0\n",
      "    0    0    0    0    0    0    0    0    0    0    0    0    0    0\n",
      "    0    0    0    0    0    0    0    0    0    0    0    0    0    0\n",
      "    0    0    0    0    0    0    0    0    0    0    0    0    0    0\n",
      "    0    0    0    0    0    0    0    0    0    0    0    0    0    0\n",
      "    0    0    0    0    0    0    0    0    0    0    0    0    0    0\n",
      "    0    0    0    0    0    0    0    0    0    0    0    0    0    0\n",
      "    0    0    0    0    0    0    0    0    0    0    0    0    0    0\n",
      "    0    0    0    0    0    0    0    0    0    0    0    0    0    0\n",
      "    0    0    0    0    0    0    0    0    0    0    0    0    0    0\n",
      "    0    0    0    0    0    0    0    0    0    0    0    0    0    0\n",
      "    0    0    0    0    0    0    0    0    0    0    0    0    0    0\n",
      "    0    0    0    0    0    0    0    0    0    0]\n"
     ]
    }
   ],
   "source": [
    "# examining one of the processed reviews to make sure everything is working as intended.\n",
    "print(\"Total number of processed reviews in the training dataset = {}\".format(len(train_X[100])))\n",
    "print(\"\\nProcessed review info of one element in the training dataset\\n\\n{}\".format(train_X[100]))"
   ]
  },
  {
   "cell_type": "markdown",
   "metadata": {},
   "source": [
    "## Step 3: Upload the data to S3\n",
    "\n",
    "Upload the training dataset to S3 in order for our training code to access it. For now we will save it locally and we will upload to S3 later on.\n",
    "\n",
    "### Save the processed training dataset locally\n",
    "\n",
    "It is important to note the format of the data that we are saving as we will need to know it when we write the training code. In our case, each row of the dataset has the form `label`, `length`, `review[500]` where `review[500]` is a sequence of `500` integers representing the words in the review."
   ]
  },
  {
   "cell_type": "code",
   "execution_count": 91,
   "metadata": {},
   "outputs": [],
   "source": [
    "import pandas as pd\n",
    "    \n",
    "pd.concat([pd.DataFrame(train_y), pd.DataFrame(train_X_len), pd.DataFrame(train_X)], axis=1) \\\n",
    "        .to_csv(os.path.join(data_dir, 'train.csv'), header=False, index=False)"
   ]
  },
  {
   "cell_type": "markdown",
   "metadata": {},
   "source": [
    "### Uploading the training data\n",
    "\n",
    "\n",
    "Next, we need to upload the training data to the SageMaker default S3 bucket so that we can provide access to it while training our model."
   ]
  },
  {
   "cell_type": "code",
   "execution_count": 92,
   "metadata": {},
   "outputs": [],
   "source": [
    "import sagemaker\n",
    "\n",
    "sagemaker_session = sagemaker.Session()\n",
    "\n",
    "bucket = sagemaker_session.default_bucket()\n",
    "prefix = 'sagemaker/sentiment_rnn'\n",
    "\n",
    "role = sagemaker.get_execution_role()"
   ]
  },
  {
   "cell_type": "code",
   "execution_count": 93,
   "metadata": {},
   "outputs": [],
   "source": [
    "input_data = sagemaker_session.upload_data(path=data_dir, bucket=bucket, key_prefix=prefix)"
   ]
  },
  {
   "cell_type": "markdown",
   "metadata": {},
   "source": [
    "**NOTE:** The cell above uploads the entire contents of our data directory. This includes the `word_dict.pkl` file. This is fortunate as we will need this later on when we create an endpoint that accepts an arbitrary review. For now, we will just take note of the fact that it resides in the data directory (and so also in the S3 training bucket) and that we will need to make sure it gets saved in the model directory."
   ]
  },
  {
   "cell_type": "markdown",
   "metadata": {},
   "source": [
    "### Step 4: Build and Train the PyTorch Model\n",
    "\n",
    "A model comprises three objects\n",
    "\n",
    " - Model Artifacts,\n",
    " - Training Code, and\n",
    " - Inference Code,\n",
    " \n",
    "each of which interact with one another. Here we will still be using containers provided by Amazon with the added benefit of being able to include our own custom code.\n",
    "\n",
    "We will start by implementing our own neural network in PyTorch along with a training script (train/model.py)."
   ]
  },
  {
   "cell_type": "code",
   "execution_count": 94,
   "metadata": {
    "scrolled": false
   },
   "outputs": [
    {
     "name": "stdout",
     "output_type": "stream",
     "text": [
      "\u001b[34mimport\u001b[39;49;00m \u001b[04m\u001b[36mtorch.nn\u001b[39;49;00m \u001b[34mas\u001b[39;49;00m \u001b[04m\u001b[36mnn\u001b[39;49;00m\r\n",
      "\r\n",
      "\u001b[34mclass\u001b[39;49;00m \u001b[04m\u001b[32mLSTMClassifier\u001b[39;49;00m(nn.Module):\r\n",
      "    \u001b[33m\"\"\"\u001b[39;49;00m\r\n",
      "\u001b[33m    This is the simple RNN model we will be using to perform Sentiment Analysis.\u001b[39;49;00m\r\n",
      "\u001b[33m    \"\"\"\u001b[39;49;00m\r\n",
      "\r\n",
      "    \u001b[34mdef\u001b[39;49;00m \u001b[32m__init__\u001b[39;49;00m(\u001b[36mself\u001b[39;49;00m, embedding_dim, hidden_dim, vocab_size):\r\n",
      "        \u001b[33m\"\"\"\u001b[39;49;00m\r\n",
      "\u001b[33m        Initialize the model by settingg up the various layers.\u001b[39;49;00m\r\n",
      "\u001b[33m        \"\"\"\u001b[39;49;00m\r\n",
      "        \u001b[36msuper\u001b[39;49;00m(LSTMClassifier, \u001b[36mself\u001b[39;49;00m).\u001b[32m__init__\u001b[39;49;00m()\r\n",
      "\r\n",
      "        \u001b[36mself\u001b[39;49;00m.embedding = nn.Embedding(vocab_size, embedding_dim, padding_idx=\u001b[34m0\u001b[39;49;00m)\r\n",
      "        \u001b[36mself\u001b[39;49;00m.lstm = nn.LSTM(embedding_dim, hidden_dim)\r\n",
      "        \u001b[36mself\u001b[39;49;00m.dense = nn.Linear(in_features=hidden_dim, out_features=\u001b[34m1\u001b[39;49;00m)\r\n",
      "        \u001b[36mself\u001b[39;49;00m.sig = nn.Sigmoid()\r\n",
      "        \r\n",
      "        \u001b[36mself\u001b[39;49;00m.word_dict = \u001b[36mNone\u001b[39;49;00m\r\n",
      "\r\n",
      "    \u001b[34mdef\u001b[39;49;00m \u001b[32mforward\u001b[39;49;00m(\u001b[36mself\u001b[39;49;00m, x):\r\n",
      "        \u001b[33m\"\"\"\u001b[39;49;00m\r\n",
      "\u001b[33m        Perform a forward pass of our model on some input.\u001b[39;49;00m\r\n",
      "\u001b[33m        \"\"\"\u001b[39;49;00m\r\n",
      "        x = x.t()\r\n",
      "        lengths = x[\u001b[34m0\u001b[39;49;00m,:]\r\n",
      "        reviews = x[\u001b[34m1\u001b[39;49;00m:,:]\r\n",
      "        embeds = \u001b[36mself\u001b[39;49;00m.embedding(reviews)\r\n",
      "        lstm_out, _ = \u001b[36mself\u001b[39;49;00m.lstm(embeds)\r\n",
      "        out = \u001b[36mself\u001b[39;49;00m.dense(lstm_out)\r\n",
      "        out = out[lengths - \u001b[34m1\u001b[39;49;00m, \u001b[36mrange\u001b[39;49;00m(\u001b[36mlen\u001b[39;49;00m(lengths))]\r\n",
      "        \u001b[34mreturn\u001b[39;49;00m \u001b[36mself\u001b[39;49;00m.sig(out.squeeze())\r\n"
     ]
    }
   ],
   "source": [
    "!pygmentize train/model.py"
   ]
  },
  {
   "cell_type": "code",
   "execution_count": 95,
   "metadata": {},
   "outputs": [],
   "source": [
    "import torch\n",
    "import torch.utils.data\n",
    "\n",
    "# Read in only the first 250 rows\n",
    "train_sample = pd.read_csv(os.path.join(data_dir, 'train.csv'), header=None, names=None, nrows=250)\n",
    "\n",
    "# Turn the input pandas dataframe into tensors\n",
    "train_sample_y = torch.from_numpy(train_sample[[0]].values).float().squeeze()\n",
    "train_sample_X = torch.from_numpy(train_sample.drop([0], axis=1).values).long()\n",
    "\n",
    "# Build the dataset\n",
    "train_sample_ds = torch.utils.data.TensorDataset(train_sample_X, train_sample_y)\n",
    "# Build the dataloader\n",
    "train_sample_dl = torch.utils.data.DataLoader(train_sample_ds, batch_size=50)"
   ]
  },
  {
   "cell_type": "markdown",
   "metadata": {},
   "source": [
    "### Writing the training method\n",
    "\n",
    "Next we need to write the training code itself. For nowm we will not tackle aspects like model saving / loading and parameter loading, we'll get it to out it a little later."
   ]
  },
  {
   "cell_type": "code",
   "execution_count": 96,
   "metadata": {},
   "outputs": [],
   "source": [
    "def train(model, train_loader, epochs, optimizer, loss_fn, device):\n",
    "    for epoch in range(1, epochs + 1):\n",
    "        model.train()\n",
    "        total_loss = 0\n",
    "        for batch in train_loader:         \n",
    "            batch_X, batch_y = batch\n",
    "            \n",
    "            batch_X = batch_X.to(device)\n",
    "            batch_y = batch_y.to(device)\n",
    "            \n",
    "            # TODO: Complete this train method to train the model provided.\n",
    "            optimizer.zero_grad()\n",
    "            out = model.forward(batch_X)\n",
    "            loss = loss_fn(out, batch_y)\n",
    "            loss.backward()\n",
    "            optimizer.step()\n",
    "            \n",
    "            total_loss += loss.data.item()\n",
    "        print(\"Epoch: {}, BCELoss: {}\".format(epoch, total_loss / len(train_loader)))"
   ]
  },
  {
   "cell_type": "markdown",
   "metadata": {},
   "source": [
    "Supposing we have the training method above, we will test that it is working by writing a bit of code in the notebook that executes our training method on the small sample training set that we loaded earlier. The reason for doing this in the notebook is so that we have an opportunity to fix any errors that arise early when they are easier to diagnose."
   ]
  },
  {
   "cell_type": "code",
   "execution_count": 97,
   "metadata": {},
   "outputs": [
    {
     "name": "stdout",
     "output_type": "stream",
     "text": [
      "Epoch: 1, BCELoss: 0.6944415688514709\n",
      "Epoch: 2, BCELoss: 0.6856557250022888\n",
      "Epoch: 3, BCELoss: 0.6785717844963074\n",
      "Epoch: 4, BCELoss: 0.6706212759017944\n",
      "Epoch: 5, BCELoss: 0.6607085108757019\n"
     ]
    }
   ],
   "source": [
    "import torch.optim as optim\n",
    "from train.model import LSTMClassifier\n",
    "\n",
    "device = torch.device(\"cuda\" if torch.cuda.is_available() else \"cpu\")\n",
    "model = LSTMClassifier(32, 100, 5000).to(device)\n",
    "optimizer = optim.Adam(model.parameters())\n",
    "loss_fn = torch.nn.BCELoss()\n",
    "\n",
    "train(model, train_sample_dl, 5, optimizer, loss_fn, device)"
   ]
  },
  {
   "cell_type": "markdown",
   "metadata": {},
   "source": [
    "In order to construct a PyTorch model using SageMaker we must provide SageMaker with a training script. We may optionally include a directory which will be copied to the container and from which our training code will be run. When the training container is executed it will check the uploaded directory (if there is one) for a `requirements.txt` file and install any required Python libraries, after which the training script will be run."
   ]
  },
  {
   "cell_type": "markdown",
   "metadata": {},
   "source": [
    "### Training the model\n",
    "\n",
    "When a PyTorch model is constructed in SageMaker, an entry point must be specified. This is the Python file which will be executed when the model is trained. "
   ]
  },
  {
   "cell_type": "code",
   "execution_count": 98,
   "metadata": {},
   "outputs": [],
   "source": [
    "from sagemaker.pytorch import PyTorch\n",
    "\n",
    "estimator = PyTorch(entry_point=\"train.py\",\n",
    "                    source_dir=\"train\",\n",
    "                    role=role,\n",
    "                    framework_version='0.4.0',\n",
    "                    train_instance_count=1,\n",
    "                    train_instance_type='ml.p2.xlarge',\n",
    "                    hyperparameters={\n",
    "                        'epochs': 10,\n",
    "                        'hidden_dim': 200,\n",
    "                    })"
   ]
  },
  {
   "cell_type": "code",
   "execution_count": 99,
   "metadata": {
    "scrolled": true
   },
   "outputs": [
    {
     "name": "stdout",
     "output_type": "stream",
     "text": [
      "2019-11-21 14:55:45 Starting - Starting the training job...\n",
      "2019-11-21 14:55:50 Starting - Launching requested ML instances......\n",
      "2019-11-21 14:56:52 Starting - Preparing the instances for training.........\n",
      "2019-11-21 14:58:20 Downloading - Downloading input data...\n",
      "2019-11-21 14:58:50 Training - Downloading the training image..\u001b[31mbash: cannot set terminal process group (-1): Inappropriate ioctl for device\u001b[0m\n",
      "\u001b[31mbash: no job control in this shell\u001b[0m\n",
      "\u001b[31m2019-11-21 14:59:25,729 sagemaker-containers INFO     Imported framework sagemaker_pytorch_container.training\u001b[0m\n",
      "\u001b[31m2019-11-21 14:59:25,753 sagemaker_pytorch_container.training INFO     Block until all host DNS lookups succeed.\u001b[0m\n",
      "\n",
      "2019-11-21 14:59:24 Training - Training image download completed. Training in progress.\u001b[31m2019-11-21 14:59:31,982 sagemaker_pytorch_container.training INFO     Invoking user training script.\u001b[0m\n",
      "\u001b[31m2019-11-21 14:59:32,267 sagemaker-containers INFO     Module train does not provide a setup.py. \u001b[0m\n",
      "\u001b[31mGenerating setup.py\u001b[0m\n",
      "\u001b[31m2019-11-21 14:59:32,268 sagemaker-containers INFO     Generating setup.cfg\u001b[0m\n",
      "\u001b[31m2019-11-21 14:59:32,268 sagemaker-containers INFO     Generating MANIFEST.in\u001b[0m\n",
      "\u001b[31m2019-11-21 14:59:32,268 sagemaker-containers INFO     Installing module with the following command:\u001b[0m\n",
      "\u001b[31m/usr/bin/python -m pip install -U . -r requirements.txt\u001b[0m\n",
      "\u001b[31mProcessing /opt/ml/code\u001b[0m\n",
      "\u001b[31mCollecting pandas (from -r requirements.txt (line 1))\n",
      "  Downloading https://files.pythonhosted.org/packages/74/24/0cdbf8907e1e3bc5a8da03345c23cbed7044330bb8f73bb12e711a640a00/pandas-0.24.2-cp35-cp35m-manylinux1_x86_64.whl (10.0MB)\u001b[0m\n",
      "\u001b[31mCollecting numpy (from -r requirements.txt (line 2))\u001b[0m\n",
      "\u001b[31m  Downloading https://files.pythonhosted.org/packages/ab/e9/2561dbfbc05146bffa02167e09b9902e273decb2dc4cd5c43314ede20312/numpy-1.17.4-cp35-cp35m-manylinux1_x86_64.whl (19.8MB)\u001b[0m\n",
      "\u001b[31mCollecting nltk (from -r requirements.txt (line 3))\n",
      "  Downloading https://files.pythonhosted.org/packages/f6/1d/d925cfb4f324ede997f6d47bea4d9babba51b49e87a767c170b77005889d/nltk-3.4.5.zip (1.5MB)\u001b[0m\n",
      "\u001b[31mCollecting beautifulsoup4 (from -r requirements.txt (line 4))\n",
      "  Downloading https://files.pythonhosted.org/packages/3b/c8/a55eb6ea11cd7e5ac4bacdf92bac4693b90d3ba79268be16527555e186f0/beautifulsoup4-4.8.1-py3-none-any.whl (101kB)\u001b[0m\n",
      "\u001b[31mCollecting html5lib (from -r requirements.txt (line 5))\n",
      "  Downloading https://files.pythonhosted.org/packages/a5/62/bbd2be0e7943ec8504b517e62bab011b4946e1258842bc159e5dfde15b96/html5lib-1.0.1-py2.py3-none-any.whl (117kB)\u001b[0m\n",
      "\u001b[31mRequirement already satisfied, skipping upgrade: python-dateutil>=2.5.0 in /usr/local/lib/python3.5/dist-packages (from pandas->-r requirements.txt (line 1)) (2.7.5)\u001b[0m\n",
      "\u001b[31mCollecting pytz>=2011k (from pandas->-r requirements.txt (line 1))\n",
      "  Downloading https://files.pythonhosted.org/packages/e7/f9/f0b53f88060247251bf481fa6ea62cd0d25bf1b11a87888e53ce5b7c8ad2/pytz-2019.3-py2.py3-none-any.whl (509kB)\u001b[0m\n",
      "\u001b[31mRequirement already satisfied, skipping upgrade: six in /usr/local/lib/python3.5/dist-packages (from nltk->-r requirements.txt (line 3)) (1.11.0)\u001b[0m\n",
      "\u001b[31mCollecting soupsieve>=1.2 (from beautifulsoup4->-r requirements.txt (line 4))\n",
      "  Downloading https://files.pythonhosted.org/packages/81/94/03c0f04471fc245d08d0a99f7946ac228ca98da4fa75796c507f61e688c2/soupsieve-1.9.5-py2.py3-none-any.whl\u001b[0m\n",
      "\u001b[31mCollecting webencodings (from html5lib->-r requirements.txt (line 5))\n",
      "  Downloading https://files.pythonhosted.org/packages/f4/24/2a3e3df732393fed8b3ebf2ec078f05546de641fe1b667ee316ec1dcf3b7/webencodings-0.5.1-py2.py3-none-any.whl\u001b[0m\n",
      "\u001b[31mBuilding wheels for collected packages: nltk, train\n",
      "  Running setup.py bdist_wheel for nltk: started\u001b[0m\n",
      "\u001b[31m  Running setup.py bdist_wheel for nltk: finished with status 'done'\n",
      "  Stored in directory: /root/.cache/pip/wheels/96/86/f6/68ab24c23f207c0077381a5e3904b2815136b879538a24b483\n",
      "  Running setup.py bdist_wheel for train: started\u001b[0m\n",
      "\u001b[31m  Running setup.py bdist_wheel for train: finished with status 'done'\n",
      "  Stored in directory: /tmp/pip-ephem-wheel-cache-0yholb_w/wheels/35/24/16/37574d11bf9bde50616c67372a334f94fa8356bc7164af8ca3\u001b[0m\n",
      "\u001b[31mSuccessfully built nltk train\u001b[0m\n",
      "\u001b[31mInstalling collected packages: pytz, numpy, pandas, nltk, soupsieve, beautifulsoup4, webencodings, html5lib, train\n",
      "  Found existing installation: numpy 1.15.4\n",
      "    Uninstalling numpy-1.15.4:\u001b[0m\n",
      "\u001b[31m      Successfully uninstalled numpy-1.15.4\u001b[0m\n",
      "\u001b[31mSuccessfully installed beautifulsoup4-4.8.1 html5lib-1.0.1 nltk-3.4.5 numpy-1.17.4 pandas-0.24.2 pytz-2019.3 soupsieve-1.9.5 train-1.0.0 webencodings-0.5.1\u001b[0m\n",
      "\u001b[31mYou are using pip version 18.1, however version 19.3.1 is available.\u001b[0m\n",
      "\u001b[31mYou should consider upgrading via the 'pip install --upgrade pip' command.\u001b[0m\n",
      "\u001b[31m2019-11-21 14:59:44,045 sagemaker-containers INFO     Invoking user script\n",
      "\u001b[0m\n",
      "\u001b[31mTraining Env:\n",
      "\u001b[0m\n",
      "\u001b[31m{\n",
      "    \"log_level\": 20,\n",
      "    \"hosts\": [\n",
      "        \"algo-1\"\n",
      "    ],\n",
      "    \"job_name\": \"sagemaker-pytorch-2019-11-21-14-55-44-648\",\n",
      "    \"network_interface_name\": \"eth0\",\n",
      "    \"channel_input_dirs\": {\n",
      "        \"training\": \"/opt/ml/input/data/training\"\n",
      "    },\n",
      "    \"output_data_dir\": \"/opt/ml/output/data\",\n",
      "    \"user_entry_point\": \"train.py\",\n",
      "    \"framework_module\": \"sagemaker_pytorch_container.training:main\",\n",
      "    \"additional_framework_parameters\": {},\n",
      "    \"resource_config\": {\n",
      "        \"hosts\": [\n",
      "            \"algo-1\"\n",
      "        ],\n",
      "        \"current_host\": \"algo-1\",\n",
      "        \"network_interface_name\": \"eth0\"\n",
      "    },\n",
      "    \"num_gpus\": 1,\n",
      "    \"current_host\": \"algo-1\",\n",
      "    \"hyperparameters\": {\n",
      "        \"hidden_dim\": 200,\n",
      "        \"epochs\": 10\n",
      "    },\n",
      "    \"input_config_dir\": \"/opt/ml/input/config\",\n",
      "    \"input_data_config\": {\n",
      "        \"training\": {\n",
      "            \"TrainingInputMode\": \"File\",\n",
      "            \"RecordWrapperType\": \"None\",\n",
      "            \"S3DistributionType\": \"FullyReplicated\"\n",
      "        }\n",
      "    },\n",
      "    \"input_dir\": \"/opt/ml/input\",\n",
      "    \"output_intermediate_dir\": \"/opt/ml/output/intermediate\",\n",
      "    \"module_name\": \"train\",\n",
      "    \"num_cpus\": 4,\n",
      "    \"module_dir\": \"s3://sagemaker-us-east-1-037870494941/sagemaker-pytorch-2019-11-21-14-55-44-648/source/sourcedir.tar.gz\",\n",
      "    \"output_dir\": \"/opt/ml/output\",\n",
      "    \"model_dir\": \"/opt/ml/model\"\u001b[0m\n",
      "\u001b[31m}\n",
      "\u001b[0m\n",
      "\u001b[31mEnvironment variables:\n",
      "\u001b[0m\n",
      "\u001b[31mSM_CHANNELS=[\"training\"]\u001b[0m\n",
      "\u001b[31mSM_OUTPUT_DATA_DIR=/opt/ml/output/data\u001b[0m\n",
      "\u001b[31mSM_INPUT_CONFIG_DIR=/opt/ml/input/config\u001b[0m\n",
      "\u001b[31mSM_MODULE_NAME=train\u001b[0m\n",
      "\u001b[31mSM_INPUT_DATA_CONFIG={\"training\":{\"RecordWrapperType\":\"None\",\"S3DistributionType\":\"FullyReplicated\",\"TrainingInputMode\":\"File\"}}\u001b[0m\n",
      "\u001b[31mSM_NUM_GPUS=1\u001b[0m\n",
      "\u001b[31mSM_CURRENT_HOST=algo-1\u001b[0m\n",
      "\u001b[31mSM_USER_ENTRY_POINT=train.py\u001b[0m\n",
      "\u001b[31mSM_MODULE_DIR=s3://sagemaker-us-east-1-037870494941/sagemaker-pytorch-2019-11-21-14-55-44-648/source/sourcedir.tar.gz\u001b[0m\n",
      "\u001b[31mSM_NETWORK_INTERFACE_NAME=eth0\u001b[0m\n",
      "\u001b[31mSM_OUTPUT_INTERMEDIATE_DIR=/opt/ml/output/intermediate\u001b[0m\n",
      "\u001b[31mSM_FRAMEWORK_PARAMS={}\u001b[0m\n",
      "\u001b[31mSM_RESOURCE_CONFIG={\"current_host\":\"algo-1\",\"hosts\":[\"algo-1\"],\"network_interface_name\":\"eth0\"}\u001b[0m\n",
      "\u001b[31mSM_HP_EPOCHS=10\u001b[0m\n",
      "\u001b[31mSM_MODEL_DIR=/opt/ml/model\u001b[0m\n",
      "\u001b[31mSM_HPS={\"epochs\":10,\"hidden_dim\":200}\u001b[0m\n",
      "\u001b[31mSM_USER_ARGS=[\"--epochs\",\"10\",\"--hidden_dim\",\"200\"]\u001b[0m\n",
      "\u001b[31mSM_TRAINING_ENV={\"additional_framework_parameters\":{},\"channel_input_dirs\":{\"training\":\"/opt/ml/input/data/training\"},\"current_host\":\"algo-1\",\"framework_module\":\"sagemaker_pytorch_container.training:main\",\"hosts\":[\"algo-1\"],\"hyperparameters\":{\"epochs\":10,\"hidden_dim\":200},\"input_config_dir\":\"/opt/ml/input/config\",\"input_data_config\":{\"training\":{\"RecordWrapperType\":\"None\",\"S3DistributionType\":\"FullyReplicated\",\"TrainingInputMode\":\"File\"}},\"input_dir\":\"/opt/ml/input\",\"job_name\":\"sagemaker-pytorch-2019-11-21-14-55-44-648\",\"log_level\":20,\"model_dir\":\"/opt/ml/model\",\"module_dir\":\"s3://sagemaker-us-east-1-037870494941/sagemaker-pytorch-2019-11-21-14-55-44-648/source/sourcedir.tar.gz\",\"module_name\":\"train\",\"network_interface_name\":\"eth0\",\"num_cpus\":4,\"num_gpus\":1,\"output_data_dir\":\"/opt/ml/output/data\",\"output_dir\":\"/opt/ml/output\",\"output_intermediate_dir\":\"/opt/ml/output/intermediate\",\"resource_config\":{\"current_host\":\"algo-1\",\"hosts\":[\"algo-1\"],\"network_interface_name\":\"eth0\"},\"user_entry_point\":\"train.py\"}\u001b[0m\n",
      "\u001b[31mSM_CHANNEL_TRAINING=/opt/ml/input/data/training\u001b[0m\n",
      "\u001b[31mSM_INPUT_DIR=/opt/ml/input\u001b[0m\n",
      "\u001b[31mSM_OUTPUT_DIR=/opt/ml/output\u001b[0m\n",
      "\u001b[31mSM_LOG_LEVEL=20\u001b[0m\n",
      "\u001b[31mSM_HOSTS=[\"algo-1\"]\u001b[0m\n",
      "\u001b[31mSM_HP_HIDDEN_DIM=200\u001b[0m\n",
      "\u001b[31mPYTHONPATH=/usr/local/bin:/usr/lib/python35.zip:/usr/lib/python3.5:/usr/lib/python3.5/plat-x86_64-linux-gnu:/usr/lib/python3.5/lib-dynload:/usr/local/lib/python3.5/dist-packages:/usr/lib/python3/dist-packages\u001b[0m\n",
      "\u001b[31mSM_NUM_CPUS=4\u001b[0m\n",
      "\u001b[31mSM_FRAMEWORK_MODULE=sagemaker_pytorch_container.training:main\n",
      "\u001b[0m\n",
      "\u001b[31mInvoking script with the following command:\n",
      "\u001b[0m\n",
      "\u001b[31m/usr/bin/python -m train --epochs 10 --hidden_dim 200\n",
      "\n",
      "\u001b[0m\n",
      "\u001b[31mUsing device cuda.\u001b[0m\n",
      "\u001b[31mGet train data loader.\u001b[0m\n"
     ]
    },
    {
     "name": "stdout",
     "output_type": "stream",
     "text": [
      "\u001b[31mModel loaded with embedding_dim 32, hidden_dim 200, vocab_size 5000.\u001b[0m\n",
      "\u001b[31mEpoch: 1, BCELoss: 0.669403994569973\u001b[0m\n",
      "\u001b[31mEpoch: 2, BCELoss: 0.5885409676298803\u001b[0m\n",
      "\u001b[31mEpoch: 3, BCELoss: 0.49692975988193433\u001b[0m\n",
      "\u001b[31mEpoch: 4, BCELoss: 0.43016003224314475\u001b[0m\n",
      "\u001b[31mEpoch: 5, BCELoss: 0.4040961533176656\u001b[0m\n",
      "\u001b[31mEpoch: 6, BCELoss: 0.34552302834938986\u001b[0m\n",
      "\u001b[31mEpoch: 7, BCELoss: 0.32614799330429156\u001b[0m\n",
      "\u001b[31mEpoch: 8, BCELoss: 0.32047194759456477\u001b[0m\n",
      "\u001b[31mEpoch: 9, BCELoss: 0.28732806109652226\u001b[0m\n",
      "\u001b[31mEpoch: 10, BCELoss: 0.2751056117062666\u001b[0m\n",
      "\u001b[31m2019-11-21 15:02:47,432 sagemaker-containers INFO     Reporting training SUCCESS\u001b[0m\n",
      "\n",
      "2019-11-21 15:02:57 Uploading - Uploading generated training model\n",
      "2019-11-21 15:02:57 Completed - Training job completed\n",
      "Training seconds: 277\n",
      "Billable seconds: 277\n"
     ]
    }
   ],
   "source": [
    "estimator.fit({'training': input_data})"
   ]
  },
  {
   "cell_type": "markdown",
   "metadata": {},
   "source": [
    "## Step 5: Testing the model\n",
    "\n",
    "As mentioned at the top of this notebook, we will be testing this model by first deploying it and then sending the testing data to the deployed endpoint. We will do this so that we can make sure that the deployed model is working correctly.\n",
    "\n",
    "## Step 6: Deploy the model for testing\n",
    "\n",
    "Now that we have trained our model, we would like to test it to see how it performs. Currently our model takes input of the form `review_length, review[500]` where `review[500]` is a sequence of `500` integers which describe the words present in the review, encoded using `word_dict`. Fortunately for us, SageMaker provides built-in inference code for models with simple inputs such as this.\n"
   ]
  },
  {
   "cell_type": "code",
   "execution_count": 100,
   "metadata": {},
   "outputs": [
    {
     "name": "stdout",
     "output_type": "stream",
     "text": [
      "---------------------------------------------------------------------------------------------------!"
     ]
    }
   ],
   "source": [
    "# Deploy the trained model\n",
    "predictor = estimator.deploy(initial_instance_count=1, instance_type='ml.m4.xlarge')"
   ]
  },
  {
   "cell_type": "markdown",
   "metadata": {},
   "source": [
    "## Step 7 - Use the model for testing\n",
    "\n",
    "Once deployed, we can read in the test data and send it off to our deployed model to get some results. Once we collect all of the results we can determine how accurate our model is."
   ]
  },
  {
   "cell_type": "code",
   "execution_count": 101,
   "metadata": {},
   "outputs": [],
   "source": [
    "test_X = pd.concat([pd.DataFrame(test_X_len), pd.DataFrame(test_X)], axis=1)"
   ]
  },
  {
   "cell_type": "code",
   "execution_count": 102,
   "metadata": {},
   "outputs": [],
   "source": [
    "# We split the data into chunks and send each chunk seperately, accumulating the results.\n",
    "\n",
    "def predict(data, rows=512):\n",
    "    split_array = np.array_split(data, int(data.shape[0] / float(rows) + 1))\n",
    "    predictions = np.array([])\n",
    "    for array in split_array:\n",
    "        predictions = np.append(predictions, predictor.predict(array))\n",
    "    \n",
    "    return predictions"
   ]
  },
  {
   "cell_type": "code",
   "execution_count": 103,
   "metadata": {},
   "outputs": [],
   "source": [
    "predictions = predict(test_X.values)\n",
    "predictions = [round(num) for num in predictions]"
   ]
  },
  {
   "cell_type": "code",
   "execution_count": 104,
   "metadata": {},
   "outputs": [
    {
     "data": {
      "text/plain": [
       "0.85452"
      ]
     },
     "execution_count": 104,
     "metadata": {},
     "output_type": "execute_result"
    }
   ],
   "source": [
    "from sklearn.metrics import accuracy_score\n",
    "accuracy_score(test_y, predictions)"
   ]
  },
  {
   "cell_type": "markdown",
   "metadata": {},
   "source": [
    "We get an accuracy score on the test dataset of ~ 85.5%"
   ]
  },
  {
   "cell_type": "markdown",
   "metadata": {},
   "source": [
    "### More testing\n",
    "\n",
    "We now have a trained model which has been deployed and which we can send processed reviews to and which returns the predicted sentiment. However, ultimately we would like to be able to send our model an unprocessed review. That is, we would like to send the review itself as a string. For example, suppose we wish to send the following review to our model."
   ]
  },
  {
   "cell_type": "code",
   "execution_count": 1,
   "metadata": {},
   "outputs": [],
   "source": [
    "test_review = 'The simplest pleasures in life are the best, and this film is one of them. Combining a rather basic storyline of love and adventure this movie transcends the usual weekend fair with wit and unmitigated charm.'"
   ]
  },
  {
   "cell_type": "markdown",
   "metadata": {},
   "source": [
    "To send this review to our model, we need to:\n",
    "\n",
    " - Removed any html tags and stemmed the input\n",
    " - Encoded the review as a sequence of integers using `word_dict`\n",
    " "
   ]
  },
  {
   "cell_type": "code",
   "execution_count": 106,
   "metadata": {},
   "outputs": [],
   "source": [
    "# Convert test_review into a form usable by the model and save the results in test_data\n",
    "test_data = None\n",
    "test_data_tokenize = review_to_words(test_review)\n",
    "test_data = [np.array(convert_and_pad(word_dict, test_data_tokenize)[0])]"
   ]
  },
  {
   "cell_type": "markdown",
   "metadata": {},
   "source": [
    "Now that we have processed the review, we can send the resulting array to our model to predict the sentiment of the review."
   ]
  },
  {
   "cell_type": "code",
   "execution_count": 107,
   "metadata": {},
   "outputs": [
    {
     "data": {
      "text/plain": [
       "array(0.448601, dtype=float32)"
      ]
     },
     "execution_count": 107,
     "metadata": {},
     "output_type": "execute_result"
    }
   ],
   "source": [
    "predictor.predict(test_data)"
   ]
  },
  {
   "cell_type": "markdown",
   "metadata": {},
   "source": [
    "### Delete the endpoint\n",
    "\n",
    "Since we are done using our endpoint for now, we can delete it."
   ]
  },
  {
   "cell_type": "code",
   "execution_count": 136,
   "metadata": {},
   "outputs": [],
   "source": [
    "estimator.delete_endpoint()"
   ]
  },
  {
   "cell_type": "markdown",
   "metadata": {},
   "source": [
    "## Step 6 (again) - Deploy the model for the web app\n",
    "\n",
    "Now that we know that our model is working, it's time to create some custom inference code so that we can send the model a review which has not been processed and have it determine the sentiment of the review.\n",
    "\n",
    "As we saw above, by default the estimator which we created, when deployed, will use the entry script and directory which we provided when creating the model. However, since we now wish to accept a string as input and our model expects a processed review, we need to write some custom inference code.\n",
    "\n",
    "We will store the code that we write in the `serve` directory. Provided in this directory is the `model.py` file that we used to construct our model, a `utils.py` file which contains the `review_to_words` and `convert_and_pad` pre-processing functions which we used during the initial data processing, and `predict.py`, the file which will contain our custom inference code. Note also that `requirements.txt` is present which will tell SageMaker what Python libraries are required by our custom inference code.\n",
    "\n",
    "When deploying a PyTorch model in SageMaker, you are expected to provide four functions which the SageMaker inference container will use.\n",
    " - `model_fn`: This function tells SageMaker how to load our model.\n",
    " - `input_fn`: This function receives the raw serialized input that has been sent to the model's endpoint and its job is to de-serialize and make the input available for the inference code.\n",
    " - `output_fn`: This function takes the output of the inference code and its job is to serialize this output and return it to the caller of the model's endpoint.\n",
    " - `predict_fn`: The heart of the inference script, this is where the actual prediction is done and is the function which you will need to complete.\n",
    "\n",
    "For the simple website that we are constructing during this project, the `input_fn` and `output_fn` methods are relatively straightforward. We only require being able to accept a string as input and we expect to return a single value as output. You might imagine though that in a more complex application the input or output may be image data or some other binary data which would require some effort to serialize.\n"
   ]
  },
  {
   "cell_type": "markdown",
   "metadata": {},
   "source": [
    "### Deploying the model\n",
    "\n",
    "We need to construct a new PyTorchModel object which points to the model artifacts created during training and also points to the inference code that we wish to use. Then we can call the deploy method to launch the deployment container.\n",
    "\n",
    "**NOTE**: The default behaviour for a deployed PyTorch model is to assume that any input passed to the predictor is a `numpy` array. In our case we want to send a string so we need to construct a simple wrapper around the `RealTimePredictor` class to accomodate simple strings. In a more complicated situation we may want to provide a serialization object, for example if we wanted to sent image data."
   ]
  },
  {
   "cell_type": "code",
   "execution_count": 120,
   "metadata": {},
   "outputs": [
    {
     "name": "stdout",
     "output_type": "stream",
     "text": [
      "---------------------------------------------------------------------------------------------------!"
     ]
    }
   ],
   "source": [
    "from sagemaker.predictor import RealTimePredictor\n",
    "from sagemaker.pytorch import PyTorchModel\n",
    "\n",
    "class StringPredictor(RealTimePredictor):\n",
    "    def __init__(self, endpoint_name, sagemaker_session):\n",
    "        super(StringPredictor, self).__init__(endpoint_name, sagemaker_session, content_type='text/plain')\n",
    "\n",
    "model = PyTorchModel(model_data=estimator.model_data,\n",
    "                     role = role,\n",
    "                     framework_version='0.4.0',\n",
    "                     entry_point='predict.py',\n",
    "                     source_dir='serve',\n",
    "                     predictor_cls=StringPredictor)\n",
    "predictor = model.deploy(initial_instance_count=1, instance_type='ml.m4.xlarge')"
   ]
  },
  {
   "cell_type": "markdown",
   "metadata": {},
   "source": [
    "### Testing the model\n",
    "\n",
    "Now that we have deployed our model with the custom inference code, we should test to see if everything is working. Here we test our model by loading the first `250` positive and negative reviews and send them to the endpoint, then collect the results. The reason for only sending some of the data is that the amount of time it takes for our model to process the input and then perform inference is quite long and so testing the entire data set would be prohibitive."
   ]
  },
  {
   "cell_type": "code",
   "execution_count": 129,
   "metadata": {},
   "outputs": [],
   "source": [
    "import glob\n",
    "\n",
    "def test_reviews(data_dir='../data/aclImdb', stop=250):\n",
    "    \n",
    "    results = []\n",
    "    ground = []\n",
    "    \n",
    "    # We make sure to test both positive and negative reviews    \n",
    "    for sentiment in ['pos', 'neg']:\n",
    "        \n",
    "        path = os.path.join(data_dir, 'test', sentiment, '*.txt')\n",
    "        files = glob.glob(path)\n",
    "        \n",
    "        files_read = 0\n",
    "        \n",
    "        print('Starting ', sentiment, ' files')\n",
    "        \n",
    "        # Iterate through the files and send them to the predictor\n",
    "        for f in files:\n",
    "            with open(f) as review:\n",
    "                # First, we store the ground truth (was the review positive or negative)\n",
    "                if sentiment == 'pos':\n",
    "                    ground.append(1)\n",
    "                else:\n",
    "                    ground.append(0)\n",
    "                # Read in the review and convert to 'utf-8' for transmission via HTTP\n",
    "                review_input = review.read().encode('utf-8')\n",
    "                # Send the review to the predictor and store the results\n",
    "                #results.append(int(predictor.predict(review_input)))\n",
    "                results.append(float(predictor.predict(review_input)))\n",
    "            # Sending reviews to our endpoint one at a time takes a while so we\n",
    "            # only send a small number of reviews\n",
    "            files_read += 1\n",
    "            if files_read == stop:\n",
    "                break\n",
    "            \n",
    "    return ground, results"
   ]
  },
  {
   "cell_type": "code",
   "execution_count": 131,
   "metadata": {},
   "outputs": [
    {
     "name": "stdout",
     "output_type": "stream",
     "text": [
      "Starting  pos  files\n",
      "Starting  neg  files\n"
     ]
    }
   ],
   "source": [
    "ground, results = test_reviews()"
   ]
  },
  {
   "cell_type": "code",
   "execution_count": 132,
   "metadata": {},
   "outputs": [
    {
     "data": {
      "text/plain": [
       "0.858"
      ]
     },
     "execution_count": 132,
     "metadata": {},
     "output_type": "execute_result"
    }
   ],
   "source": [
    "from sklearn.metrics import accuracy_score\n",
    "accuracy_score(ground, results)"
   ]
  },
  {
   "cell_type": "markdown",
   "metadata": {},
   "source": [
    "As an additional test, we can try sending the `test_review` that we looked at earlier."
   ]
  },
  {
   "cell_type": "code",
   "execution_count": 133,
   "metadata": {},
   "outputs": [
    {
     "data": {
      "text/plain": [
       "b'1.0'"
      ]
     },
     "execution_count": 133,
     "metadata": {},
     "output_type": "execute_result"
    }
   ],
   "source": [
    "predictor.predict(test_review)"
   ]
  },
  {
   "cell_type": "markdown",
   "metadata": {},
   "source": [
    "Now that we know our endpoint is working as expected, we can set up the web page that will interact with it. If you don't have time to finish the project now, make sure to skip down to the end of this notebook and shut down your endpoint. You can deploy it again when you come back."
   ]
  },
  {
   "cell_type": "markdown",
   "metadata": {},
   "source": [
    "## Step 7 (again): Use the model for the web app\n",
    "\n",
    "> **TODO:** This section and the next are mostly done using the AWS console.\n",
    "\n",
    "So far we have been accessing our model endpoint by constructing a predictor object which uses the endpoint and then just using the predictor object to perform inference. What if we wanted to create a web app which accessed our model? The way things are set up currently makes that not possible since in order to access a SageMaker endpoint the app would first have to authenticate with AWS using an IAM role which included access to SageMaker endpoints. However, there is an easier way! We just need to use some additional AWS services.\n",
    "\n",
    "<img src=\"Web App Diagram.svg\">\n",
    "\n",
    "The diagram above gives an overview of how the various services will work together. On the far right is the model which we trained above and which is deployed using SageMaker. On the far left is our web app that collects a user's movie review, sends it off and expects a positive or negative sentiment in return.\n",
    "\n",
    "In the middle is where some of the magic happens. We will construct a Lambda function, which you can think of as a straightforward Python function that can be executed whenever a specified event occurs. We will give this function permission to send and recieve data from a SageMaker endpoint.\n",
    "\n",
    "Lastly, the method we will use to execute the Lambda function is a new endpoint that we will create using API Gateway. This endpoint will be a url that listens for data to be sent to it. Once it gets some data it will pass that data on to the Lambda function and then return whatever the Lambda function returns. Essentially it will act as an interface that lets our web app communicate with the Lambda function.\n",
    "\n",
    "### Setting up a Lambda function\n",
    "\n",
    "The first thing we are going to do is set up a Lambda function. This Lambda function will be executed whenever our public API has data sent to it. When it is executed it will receive the data, perform any sort of processing that is required, send the data (the review) to the SageMaker endpoint we've created and then return the result.\n",
    "\n",
    "#### Part A: Create an IAM Role for the Lambda function\n",
    "\n",
    "Since we want the Lambda function to call a SageMaker endpoint, we need to make sure that it has permission to do so. To do this, we will construct a role that we can later give the Lambda function.\n",
    "\n",
    "Using the AWS Console, navigate to the **IAM** page and click on **Roles**. Then, click on **Create role**. Make sure that the **AWS service** is the type of trusted entity selected and choose **Lambda** as the service that will use this role, then click **Next: Permissions**.\n",
    "\n",
    "In the search box type `sagemaker` and select the check box next to the **AmazonSageMakerFullAccess** policy. Then, click on **Next: Review**.\n",
    "\n",
    "Lastly, give this role a name. Make sure you use a name that you will remember later on, for example `LambdaSageMakerRole`. Then, click on **Create role**.\n",
    "\n",
    "#### Part B: Create a Lambda function\n",
    "\n",
    "Now it is time to actually create the Lambda function.\n",
    "\n",
    "Using the AWS Console, navigate to the AWS Lambda page and click on **Create a function**. When you get to the next page, make sure that **Author from scratch** is selected. Now, name your Lambda function, using a name that you will remember later on, for example `sentiment_analysis_func`. Make sure that the **Python 3.6** runtime is selected and then choose the role that you created in the previous part. Then, click on **Create Function**.\n",
    "\n",
    "On the next page you will see some information about the Lambda function you've just created. If you scroll down you should see an editor in which you can write the code that will be executed when your Lambda function is triggered. In our example, we will use the code below. \n",
    "\n",
    "```python\n",
    "# We need to use the low-level library to interact with SageMaker since the SageMaker API\n",
    "# is not available natively through Lambda.\n",
    "import boto3\n",
    "\n",
    "def lambda_handler(event, context):\n",
    "\n",
    "    # The SageMaker runtime is what allows us to invoke the endpoint that we've created.\n",
    "    runtime = boto3.Session().client('sagemaker-runtime')\n",
    "\n",
    "    # Now we use the SageMaker runtime to invoke our endpoint, sending the review we were given\n",
    "    response = runtime.invoke_endpoint(EndpointName = '**ENDPOINT NAME HERE**',    # The name of the endpoint we created\n",
    "                                       ContentType = 'text/plain',                 # The data format that is expected\n",
    "                                       Body = event['body'])                       # The actual review\n",
    "\n",
    "    # The response is an HTTP response whose body contains the result of our inference\n",
    "    result = response['Body'].read().decode('utf-8')\n",
    "\n",
    "    return {\n",
    "        'statusCode' : 200,\n",
    "        'headers' : { 'Content-Type' : 'text/plain', 'Access-Control-Allow-Origin' : '*' },\n",
    "        'body' : result\n",
    "    }\n",
    "```\n",
    "\n",
    "Once you have copy and pasted the code above into the Lambda code editor, replace the `**ENDPOINT NAME HERE**` portion with the name of the endpoint that we deployed earlier. You can determine the name of the endpoint using the code cell below."
   ]
  },
  {
   "cell_type": "code",
   "execution_count": 134,
   "metadata": {},
   "outputs": [
    {
     "data": {
      "text/plain": [
       "'sagemaker-pytorch-2019-11-21-17-03-02-508'"
      ]
     },
     "execution_count": 134,
     "metadata": {},
     "output_type": "execute_result"
    }
   ],
   "source": [
    "predictor.endpoint"
   ]
  },
  {
   "cell_type": "markdown",
   "metadata": {},
   "source": [
    "Once you have added the endpoint name to the Lambda function, click on **Save**. Your Lambda function is now up and running. Next we need to create a way for our web app to execute the Lambda function.\n",
    "\n",
    "### Setting up API Gateway\n",
    "\n",
    "Now that our Lambda function is set up, it is time to create a new API using API Gateway that will trigger the Lambda function we have just created.\n",
    "\n",
    "Using AWS Console, navigate to **Amazon API Gateway** and then click on **Get started**.\n",
    "\n",
    "On the next page, make sure that **New API** is selected and give the new api a name, for example, `sentiment_analysis_api`. Then, click on **Create API**.\n",
    "\n",
    "Now we have created an API, however it doesn't currently do anything. What we want it to do is to trigger the Lambda function that we created earlier.\n",
    "\n",
    "Select the **Actions** dropdown menu and click **Create Method**. A new blank method will be created, select its dropdown menu and select **POST**, then click on the check mark beside it.\n",
    "\n",
    "For the integration point, make sure that **Lambda Function** is selected and click on the **Use Lambda Proxy integration**. This option makes sure that the data that is sent to the API is then sent directly to the Lambda function with no processing. It also means that the return value must be a proper response object as it will also not be processed by API Gateway.\n",
    "\n",
    "Type the name of the Lambda function you created earlier into the **Lambda Function** text entry box and then click on **Save**. Click on **OK** in the pop-up box that then appears, giving permission to API Gateway to invoke the Lambda function you created.\n",
    "\n",
    "The last step in creating the API Gateway is to select the **Actions** dropdown and click on **Deploy API**. You will need to create a new Deployment stage and name it anything you like, for example `prod`.\n",
    "\n",
    "You have now successfully set up a public API to access your SageMaker model. Make sure to copy or write down the URL provided to invoke your newly created public API as this will be needed in the next step. This URL can be found at the top of the page, highlighted in blue next to the text **Invoke URL**."
   ]
  },
  {
   "cell_type": "markdown",
   "metadata": {},
   "source": [
    "## Deploying our web app\n",
    "\n",
    "Now that we have a publicly available API, we can start using it in a web app."
   ]
  },
  {
   "cell_type": "markdown",
   "metadata": {},
   "source": [
    "### Delete the endpoint\n",
    "\n",
    "We are charged for the length of time that the endpoint is running so if we forget and leave it we could end up with an unexpectedly large bill from AWS."
   ]
  },
  {
   "cell_type": "code",
   "execution_count": 135,
   "metadata": {},
   "outputs": [],
   "source": [
    "predictor.delete_endpoint()"
   ]
  },
  {
   "cell_type": "code",
   "execution_count": null,
   "metadata": {},
   "outputs": [],
   "source": []
  }
 ],
 "metadata": {
  "kernelspec": {
   "display_name": "conda_pytorch_p36",
   "language": "python",
   "name": "conda_pytorch_p36"
  },
  "language_info": {
   "codemirror_mode": {
    "name": "ipython",
    "version": 3
   },
   "file_extension": ".py",
   "mimetype": "text/x-python",
   "name": "python",
   "nbconvert_exporter": "python",
   "pygments_lexer": "ipython3",
   "version": "3.6.5"
  }
 },
 "nbformat": 4,
 "nbformat_minor": 2
}
